{
 "cells": [
  {
   "cell_type": "markdown",
   "metadata": {},
   "source": [
    "<center><img src = 'https://github.com/insaid2018/Term-1/blob/master/Images/INSAID_Full%20Logo.png?raw=true' width=\"240\" height=\"180\"></center>\n",
    "\n",
    "# ML on Google Playstore Data\n",
    "\n",
    "<center><img src=\"https://github.com/Shailee06/Images/blob/main/Playstore-Title.jpg?raw=true\" width=\"2000\" height=\"1800\" align='left'><br/></center>\n"
   ]
  },
  {
   "cell_type": "markdown",
   "metadata": {},
   "source": [
    "# Table of Contents\n",
    "\n",
    "1. [Problem Statement](#section1)<br>\n",
    "2. [Importing Packages](#section2)<br>\n",
    "3. [Loading Data](#section3)<br>\n",
    "4. [Data Preprocessing](#section4)<br>\n",
    "5. [Exploratory Data Analysis](#section5)<br>\n",
    "  - 5.1 [How many categories are there in total and what is the counts of apps in each?](#section501)<br>\n",
    "  - 5.2 [What is the count of unique genres under each category?](#section502)<br>\n",
    "  - 5.3 [Standardizing values of Content Rating](#section503)<br>\n",
    "  - 5.4 [What are the top 10 categories by count of apps?](#section504)<br>\n",
    "  - 5.5 [What is the Rating distribution?](#section505)<br>\n",
    "  - 5.6 [Correlation of attributes based on categories](#section506)<br>\n",
    "  - 5.7 [Observations](#section507)<br>\n",
    "6. [Classification](#section6)<br>\n",
    "  - 6.1 [Data Preparation for ML](#section601)<br>\n",
    "  - 6.2 [Model 1: Decision Tree Classifier](#section602)<br>\n",
    "  - 6.3 [Model 2: Random Forest Classifier](#section603)<br>\n",
    "  - 6.4 [Model 3: Grid Search CV_DT](#section604)<br>\n",
    "  - 6.5 [Model 4: Grid Search CV_RF](#section605)<br>\n",
    "  - 6.6 [Model 5: Logistic Regression](#section606)<br>\n",
    "  - 6.7 [Model 6: Grid Search CV_LogR](#section607)<br>\n",
    "  - 6.8 [Model Evaluation](#section608)<br>\n",
    "  - 6.9 [Summary](#section609)<br>\n",
    "7. [Regression](#section7)<br>\n",
    "  - 7.1 [Data Preparation for ML](#section701)<br>\n",
    "  - 7.2 [Model 1: Decision Tree Regressor](#section702)<br>\n",
    "  - 7.3 [Model 2: Grid Search CV_DT](#section703)<br>\n",
    "  - 7.4 [Model 3: Random Forest Regressor](#section704)<br>\n",
    "  - 7.5 [Model 4: Grid Search CV_RF1](#section705)<br>\n",
    "  - 7.6 [Model 5: Grid Search CV_RF2](#section706)<br>\n",
    "  - 7.7 [Model 6: Linear Regression](#section707)<br>\n",
    "  - 7.8 [Model Evaluation](#section708)<br>\n",
    "  - 7.9 [Summary](#section709)<br>\n",
    "8. [Conclusion](#section8)"
   ]
  },
  {
   "cell_type": "markdown",
   "metadata": {},
   "source": [
    "# <a id=section1></a>\n",
    "## 1. Problem Statement\n",
    "\n",
    "For an Android App development company, first we identified which **type of Apps** should they target to get **maximum user participation** using EDA. As a next step, the objective is to build models to predict whether: <br> \n",
    "> -> An app should be a **Free** or **Paid** App?<br>\n",
    "> -> If Paid, what should be the **approximate price point** for the app?\n",
    "<br> \n",
    "<center><img src = 'https://github.com/Shailee06/Images/blob/main/Playstore-Main.jpg?raw=true'></center>"
   ]
  },
  {
   "cell_type": "markdown",
   "metadata": {},
   "source": [
    "# <a id=section2></a>\n",
    "## 2. Importing Packages"
   ]
  },
  {
   "cell_type": "code",
   "execution_count": 1,
   "metadata": {},
   "outputs": [],
   "source": [
    "import sys                                                                      # Import packages\n",
    " \n",
    "import numpy as np\n",
    "import pandas as pd\n",
    "pd.set_option('mode.chained_assignment', None)      # To suppress pandas warnings.\n",
    "pd.set_option('display.max_colwidth', None)         # To display all the data in each column\n",
    "pd.set_option('display.max_columns', None)          # To display every column of the dataset in head()\n",
    "\n",
    "import matplotlib.pyplot as plt\n",
    "from matplotlib.pyplot import pie, axis, show\n",
    "%matplotlib inline  \n",
    "from pylab import *\n",
    "\n",
    "import warnings\n",
    "warnings.filterwarnings('ignore') \n",
    "\n",
    "import seaborn as sns\n",
    "sns.set(style='white',font_scale=1.3,color_codes=True)\n",
    "from datetime import datetime, timedelta\n"
   ]
  },
  {
   "cell_type": "markdown",
   "metadata": {},
   "source": [
    "<a id=section3></a>\n",
    "## 3. Loading Data"
   ]
  },
  {
   "cell_type": "markdown",
   "metadata": {},
   "source": [
    "In this **Data Visualization** sheet we are using a single dataset about **Google Playstore**. \n",
    "<br>\n",
    "<center><img src=\"https://github.com/Shailee06/Images/blob/main/Playstore-3.jpg?raw=true\" width=400 height=300><br/></center>\n",
    "\n",
    "- This dataset contains information about the **installations**, **price**, **ratings** and **review** information for different types incl. **Category**, **Genres**, **Size**, etc. of Android apps available on Google Playstore."
   ]
  },
  {
   "cell_type": "markdown",
   "metadata": {},
   "source": [
    "### Importing the Dataset"
   ]
  },
  {
   "cell_type": "code",
   "execution_count": 2,
   "metadata": {},
   "outputs": [],
   "source": [
    "playstore_df = pd.read_excel('https://github.com/Shailee06/Datasets/blob/main/googleplaystore.xlsx?raw=true')"
   ]
  },
  {
   "cell_type": "markdown",
   "metadata": {},
   "source": [
    "<a id=section4></a>\n",
    "### 4 Data Preprocessing"
   ]
  },
  {
   "cell_type": "markdown",
   "metadata": {},
   "source": [
    "Now we have the dataset loaded and ready to use. We will now start with Data preprocessing and Exploratory data analysis whereby we explore all the columns and also their relationship with other columns"
   ]
  },
  {
   "cell_type": "markdown",
   "metadata": {},
   "source": [
    "Checking the overview of the data through .head () and .info() and check for missing variables, type of cell etc."
   ]
  },
  {
   "cell_type": "code",
   "execution_count": 3,
   "metadata": {},
   "outputs": [
    {
     "data": {
      "text/html": [
       "<div>\n",
       "<style scoped>\n",
       "    .dataframe tbody tr th:only-of-type {\n",
       "        vertical-align: middle;\n",
       "    }\n",
       "\n",
       "    .dataframe tbody tr th {\n",
       "        vertical-align: top;\n",
       "    }\n",
       "\n",
       "    .dataframe thead th {\n",
       "        text-align: right;\n",
       "    }\n",
       "</style>\n",
       "<table border=\"1\" class=\"dataframe\">\n",
       "  <thead>\n",
       "    <tr style=\"text-align: right;\">\n",
       "      <th></th>\n",
       "      <th>App</th>\n",
       "      <th>Category</th>\n",
       "      <th>Rating</th>\n",
       "      <th>Reviews</th>\n",
       "      <th>Size</th>\n",
       "      <th>Installs</th>\n",
       "      <th>Type</th>\n",
       "      <th>Price</th>\n",
       "      <th>Content Rating</th>\n",
       "      <th>Genres</th>\n",
       "      <th>Last Updated</th>\n",
       "      <th>Current Ver</th>\n",
       "      <th>Android Ver</th>\n",
       "    </tr>\n",
       "  </thead>\n",
       "  <tbody>\n",
       "    <tr>\n",
       "      <th>7479</th>\n",
       "      <td>FML F*ck my life + widget</td>\n",
       "      <td>FAMILY</td>\n",
       "      <td>4.2</td>\n",
       "      <td>1415</td>\n",
       "      <td>209k</td>\n",
       "      <td>100,000+</td>\n",
       "      <td>Free</td>\n",
       "      <td>0.0</td>\n",
       "      <td>Everyone</td>\n",
       "      <td>Entertainment</td>\n",
       "      <td>2010-05-21</td>\n",
       "      <td>3.1</td>\n",
       "      <td>1.5 and up</td>\n",
       "    </tr>\n",
       "    <tr>\n",
       "      <th>7430</th>\n",
       "      <td>CJ Poker Odds Calculator</td>\n",
       "      <td>GAME</td>\n",
       "      <td>4.1</td>\n",
       "      <td>207</td>\n",
       "      <td>116k</td>\n",
       "      <td>50,000+</td>\n",
       "      <td>Free</td>\n",
       "      <td>0.0</td>\n",
       "      <td>Everyone</td>\n",
       "      <td>Card</td>\n",
       "      <td>2011-01-30</td>\n",
       "      <td>1.2</td>\n",
       "      <td>1.6 and up</td>\n",
       "    </tr>\n",
       "    <tr>\n",
       "      <th>10282</th>\n",
       "      <td>FD Shift Calendar Widget</td>\n",
       "      <td>TOOLS</td>\n",
       "      <td>4.1</td>\n",
       "      <td>981</td>\n",
       "      <td>73k</td>\n",
       "      <td>100,000+</td>\n",
       "      <td>Free</td>\n",
       "      <td>0.0</td>\n",
       "      <td>Everyone</td>\n",
       "      <td>Tools</td>\n",
       "      <td>2011-03-16</td>\n",
       "      <td>1.2.4</td>\n",
       "      <td>1.6 and up</td>\n",
       "    </tr>\n",
       "    <tr>\n",
       "      <th>8418</th>\n",
       "      <td>DEER HUNTER CHALLENGE</td>\n",
       "      <td>GAME</td>\n",
       "      <td>3.7</td>\n",
       "      <td>38767</td>\n",
       "      <td>4.1M</td>\n",
       "      <td>5,000,000+</td>\n",
       "      <td>Free</td>\n",
       "      <td>0.0</td>\n",
       "      <td>Everyone 10+</td>\n",
       "      <td>Action</td>\n",
       "      <td>2011-04-11</td>\n",
       "      <td>1.4.3</td>\n",
       "      <td>2.0 and up</td>\n",
       "    </tr>\n",
       "    <tr>\n",
       "      <th>8084</th>\n",
       "      <td>Freecell CY</td>\n",
       "      <td>GAME</td>\n",
       "      <td>4.0</td>\n",
       "      <td>387</td>\n",
       "      <td>1.1M</td>\n",
       "      <td>50,000+</td>\n",
       "      <td>Free</td>\n",
       "      <td>0.0</td>\n",
       "      <td>Everyone</td>\n",
       "      <td>Card</td>\n",
       "      <td>2011-04-16</td>\n",
       "      <td>1.3.3</td>\n",
       "      <td>1.6 and up</td>\n",
       "    </tr>\n",
       "  </tbody>\n",
       "</table>\n",
       "</div>"
      ],
      "text/plain": [
       "                             App Category  Rating  Reviews  Size    Installs  \\\n",
       "7479   FML F*ck my life + widget   FAMILY     4.2     1415  209k    100,000+   \n",
       "7430    CJ Poker Odds Calculator     GAME     4.1      207  116k     50,000+   \n",
       "10282   FD Shift Calendar Widget    TOOLS     4.1      981   73k    100,000+   \n",
       "8418       DEER HUNTER CHALLENGE     GAME     3.7    38767  4.1M  5,000,000+   \n",
       "8084                 Freecell CY     GAME     4.0      387  1.1M     50,000+   \n",
       "\n",
       "       Type  Price Content Rating         Genres Last Updated Current Ver  \\\n",
       "7479   Free    0.0       Everyone  Entertainment   2010-05-21         3.1   \n",
       "7430   Free    0.0       Everyone           Card   2011-01-30         1.2   \n",
       "10282  Free    0.0       Everyone          Tools   2011-03-16       1.2.4   \n",
       "8418   Free    0.0   Everyone 10+         Action   2011-04-11       1.4.3   \n",
       "8084   Free    0.0       Everyone           Card   2011-04-16       1.3.3   \n",
       "\n",
       "      Android Ver  \n",
       "7479   1.5 and up  \n",
       "7430   1.6 and up  \n",
       "10282  1.6 and up  \n",
       "8418   2.0 and up  \n",
       "8084   1.6 and up  "
      ]
     },
     "execution_count": 3,
     "metadata": {},
     "output_type": "execute_result"
    }
   ],
   "source": [
    "playstore_df.sort_values(by = 'Last Updated', inplace = True)\n",
    "playstore_df.head()"
   ]
  },
  {
   "cell_type": "code",
   "execution_count": 4,
   "metadata": {},
   "outputs": [
    {
     "name": "stdout",
     "output_type": "stream",
     "text": [
      "<class 'pandas.core.frame.DataFrame'>\n",
      "Int64Index: 10841 entries, 7479 to 10760\n",
      "Data columns (total 13 columns):\n",
      " #   Column          Non-Null Count  Dtype         \n",
      "---  ------          --------------  -----         \n",
      " 0   App             10840 non-null  object        \n",
      " 1   Category        10841 non-null  object        \n",
      " 2   Rating          9367 non-null   float64       \n",
      " 3   Reviews         10841 non-null  int64         \n",
      " 4   Size            10841 non-null  object        \n",
      " 5   Installs        10841 non-null  object        \n",
      " 6   Type            10840 non-null  object        \n",
      " 7   Price           10841 non-null  float64       \n",
      " 8   Content Rating  10841 non-null  object        \n",
      " 9   Genres          10840 non-null  object        \n",
      " 10  Last Updated    10841 non-null  datetime64[ns]\n",
      " 11  Current Ver     10833 non-null  object        \n",
      " 12  Android Ver     10839 non-null  object        \n",
      "dtypes: datetime64[ns](1), float64(2), int64(1), object(9)\n",
      "memory usage: 1.2+ MB\n"
     ]
    }
   ],
   "source": [
    "playstore_df.info()"
   ]
  },
  {
   "cell_type": "markdown",
   "metadata": {},
   "source": [
    "Observations from .info() are as under;\n",
    "\n",
    "1.There are missing values in the dataset <br>\n",
    "2.We have 12 columns and 10841 rows of data.<br>\n",
    "3.Out of the 12 columns, 9 columns have objects and balance 8 columns are numerical<br>\n",
    "\n",
    "Checking the flow of the 8 numerical columns using .describe() function as under;\n"
   ]
  },
  {
   "cell_type": "code",
   "execution_count": 5,
   "metadata": {},
   "outputs": [
    {
     "data": {
      "text/html": [
       "<div>\n",
       "<style scoped>\n",
       "    .dataframe tbody tr th:only-of-type {\n",
       "        vertical-align: middle;\n",
       "    }\n",
       "\n",
       "    .dataframe tbody tr th {\n",
       "        vertical-align: top;\n",
       "    }\n",
       "\n",
       "    .dataframe thead th {\n",
       "        text-align: right;\n",
       "    }\n",
       "</style>\n",
       "<table border=\"1\" class=\"dataframe\">\n",
       "  <thead>\n",
       "    <tr style=\"text-align: right;\">\n",
       "      <th></th>\n",
       "      <th>Rating</th>\n",
       "      <th>Reviews</th>\n",
       "      <th>Price</th>\n",
       "    </tr>\n",
       "  </thead>\n",
       "  <tbody>\n",
       "    <tr>\n",
       "      <th>count</th>\n",
       "      <td>9367.000000</td>\n",
       "      <td>1.084100e+04</td>\n",
       "      <td>10841.000000</td>\n",
       "    </tr>\n",
       "    <tr>\n",
       "      <th>mean</th>\n",
       "      <td>4.191513</td>\n",
       "      <td>4.441119e+05</td>\n",
       "      <td>1.027273</td>\n",
       "    </tr>\n",
       "    <tr>\n",
       "      <th>std</th>\n",
       "      <td>0.515735</td>\n",
       "      <td>2.927629e+06</td>\n",
       "      <td>15.948971</td>\n",
       "    </tr>\n",
       "    <tr>\n",
       "      <th>min</th>\n",
       "      <td>1.000000</td>\n",
       "      <td>0.000000e+00</td>\n",
       "      <td>0.000000</td>\n",
       "    </tr>\n",
       "    <tr>\n",
       "      <th>25%</th>\n",
       "      <td>4.000000</td>\n",
       "      <td>3.800000e+01</td>\n",
       "      <td>0.000000</td>\n",
       "    </tr>\n",
       "    <tr>\n",
       "      <th>50%</th>\n",
       "      <td>4.300000</td>\n",
       "      <td>2.094000e+03</td>\n",
       "      <td>0.000000</td>\n",
       "    </tr>\n",
       "    <tr>\n",
       "      <th>75%</th>\n",
       "      <td>4.500000</td>\n",
       "      <td>5.476800e+04</td>\n",
       "      <td>0.000000</td>\n",
       "    </tr>\n",
       "    <tr>\n",
       "      <th>max</th>\n",
       "      <td>5.000000</td>\n",
       "      <td>7.815831e+07</td>\n",
       "      <td>400.000000</td>\n",
       "    </tr>\n",
       "  </tbody>\n",
       "</table>\n",
       "</div>"
      ],
      "text/plain": [
       "            Rating       Reviews         Price\n",
       "count  9367.000000  1.084100e+04  10841.000000\n",
       "mean      4.191513  4.441119e+05      1.027273\n",
       "std       0.515735  2.927629e+06     15.948971\n",
       "min       1.000000  0.000000e+00      0.000000\n",
       "25%       4.000000  3.800000e+01      0.000000\n",
       "50%       4.300000  2.094000e+03      0.000000\n",
       "75%       4.500000  5.476800e+04      0.000000\n",
       "max       5.000000  7.815831e+07    400.000000"
      ]
     },
     "execution_count": 5,
     "metadata": {},
     "output_type": "execute_result"
    }
   ],
   "source": [
    "playstore_df.describe()"
   ]
  },
  {
   "cell_type": "code",
   "execution_count": 6,
   "metadata": {},
   "outputs": [
    {
     "data": {
      "text/html": [
       "<div>\n",
       "<style scoped>\n",
       "    .dataframe tbody tr th:only-of-type {\n",
       "        vertical-align: middle;\n",
       "    }\n",
       "\n",
       "    .dataframe tbody tr th {\n",
       "        vertical-align: top;\n",
       "    }\n",
       "\n",
       "    .dataframe thead th {\n",
       "        text-align: right;\n",
       "    }\n",
       "</style>\n",
       "<table border=\"1\" class=\"dataframe\">\n",
       "  <thead>\n",
       "    <tr style=\"text-align: right;\">\n",
       "      <th></th>\n",
       "      <th>App</th>\n",
       "      <th>Category</th>\n",
       "      <th>Rating</th>\n",
       "      <th>Reviews</th>\n",
       "      <th>Size</th>\n",
       "      <th>Installs</th>\n",
       "      <th>Type</th>\n",
       "      <th>Price</th>\n",
       "      <th>Content Rating</th>\n",
       "      <th>Genres</th>\n",
       "      <th>Last Updated</th>\n",
       "      <th>Current Ver</th>\n",
       "      <th>Android Ver</th>\n",
       "    </tr>\n",
       "  </thead>\n",
       "  <tbody>\n",
       "    <tr>\n",
       "      <th>2186</th>\n",
       "      <td>Bita and the Animals - Pelos Ares</td>\n",
       "      <td>FAMILY</td>\n",
       "      <td>4.4</td>\n",
       "      <td>1160</td>\n",
       "      <td>37M</td>\n",
       "      <td>100,000+</td>\n",
       "      <td>Free</td>\n",
       "      <td>0.00</td>\n",
       "      <td>Everyone</td>\n",
       "      <td>Education;Music &amp; Video</td>\n",
       "      <td>2013-05-22</td>\n",
       "      <td>1</td>\n",
       "      <td>2.2 and up</td>\n",
       "    </tr>\n",
       "    <tr>\n",
       "      <th>2400</th>\n",
       "      <td>AnatomyMapp</td>\n",
       "      <td>MEDICAL</td>\n",
       "      <td>4.1</td>\n",
       "      <td>80</td>\n",
       "      <td>48M</td>\n",
       "      <td>5,000+</td>\n",
       "      <td>Paid</td>\n",
       "      <td>14.99</td>\n",
       "      <td>Everyone</td>\n",
       "      <td>Medical</td>\n",
       "      <td>2013-11-05</td>\n",
       "      <td>1</td>\n",
       "      <td>3.0 and up</td>\n",
       "    </tr>\n",
       "    <tr>\n",
       "      <th>1630</th>\n",
       "      <td>Chictopia</td>\n",
       "      <td>LIFESTYLE</td>\n",
       "      <td>4.1</td>\n",
       "      <td>360</td>\n",
       "      <td>4.6M</td>\n",
       "      <td>10,000+</td>\n",
       "      <td>Free</td>\n",
       "      <td>0.00</td>\n",
       "      <td>Everyone</td>\n",
       "      <td>Lifestyle</td>\n",
       "      <td>2014-04-30</td>\n",
       "      <td>1.6.2</td>\n",
       "      <td>2.2 and up</td>\n",
       "    </tr>\n",
       "    <tr>\n",
       "      <th>2252</th>\n",
       "      <td>Essential Anatomy 3</td>\n",
       "      <td>MEDICAL</td>\n",
       "      <td>4.1</td>\n",
       "      <td>1533</td>\n",
       "      <td>42M</td>\n",
       "      <td>50,000+</td>\n",
       "      <td>Paid</td>\n",
       "      <td>11.99</td>\n",
       "      <td>Mature 17+</td>\n",
       "      <td>Medical</td>\n",
       "      <td>2014-08-07</td>\n",
       "      <td>1.1.3</td>\n",
       "      <td>4.0.3 and up</td>\n",
       "    </tr>\n",
       "    <tr>\n",
       "      <th>2266</th>\n",
       "      <td>EMT PASS</td>\n",
       "      <td>MEDICAL</td>\n",
       "      <td>3.4</td>\n",
       "      <td>51</td>\n",
       "      <td>2.4M</td>\n",
       "      <td>1,000+</td>\n",
       "      <td>Paid</td>\n",
       "      <td>29.99</td>\n",
       "      <td>Everyone</td>\n",
       "      <td>Medical</td>\n",
       "      <td>2014-10-22</td>\n",
       "      <td>2.0.2</td>\n",
       "      <td>4.0 and up</td>\n",
       "    </tr>\n",
       "    <tr>\n",
       "      <th>...</th>\n",
       "      <td>...</td>\n",
       "      <td>...</td>\n",
       "      <td>...</td>\n",
       "      <td>...</td>\n",
       "      <td>...</td>\n",
       "      <td>...</td>\n",
       "      <td>...</td>\n",
       "      <td>...</td>\n",
       "      <td>...</td>\n",
       "      <td>...</td>\n",
       "      <td>...</td>\n",
       "      <td>...</td>\n",
       "      <td>...</td>\n",
       "    </tr>\n",
       "    <tr>\n",
       "      <th>10186</th>\n",
       "      <td>Farm Heroes Saga</td>\n",
       "      <td>FAMILY</td>\n",
       "      <td>4.4</td>\n",
       "      <td>7615646</td>\n",
       "      <td>71M</td>\n",
       "      <td>100,000,000+</td>\n",
       "      <td>Free</td>\n",
       "      <td>0.00</td>\n",
       "      <td>Everyone</td>\n",
       "      <td>Casual</td>\n",
       "      <td>2018-08-07</td>\n",
       "      <td>5.2.6</td>\n",
       "      <td>2.3 and up</td>\n",
       "    </tr>\n",
       "    <tr>\n",
       "      <th>10502</th>\n",
       "      <td>Fun Kid Racing - Motocross</td>\n",
       "      <td>FAMILY</td>\n",
       "      <td>4.1</td>\n",
       "      <td>59768</td>\n",
       "      <td>Varies with device</td>\n",
       "      <td>10,000,000+</td>\n",
       "      <td>Free</td>\n",
       "      <td>0.00</td>\n",
       "      <td>Everyone</td>\n",
       "      <td>Racing;Action &amp; Adventure</td>\n",
       "      <td>2018-08-07</td>\n",
       "      <td>3.53</td>\n",
       "      <td>4.2 and up</td>\n",
       "    </tr>\n",
       "    <tr>\n",
       "      <th>10473</th>\n",
       "      <td>osmino Wi-Fi: free WiFi</td>\n",
       "      <td>TOOLS</td>\n",
       "      <td>4.2</td>\n",
       "      <td>134203</td>\n",
       "      <td>4.1M</td>\n",
       "      <td>10,000,000+</td>\n",
       "      <td>Free</td>\n",
       "      <td>0.00</td>\n",
       "      <td>Everyone</td>\n",
       "      <td>Tools</td>\n",
       "      <td>2018-08-07</td>\n",
       "      <td>6.06.14</td>\n",
       "      <td>4.4 and up</td>\n",
       "    </tr>\n",
       "    <tr>\n",
       "      <th>9853</th>\n",
       "      <td>Amino: Communities and Chats</td>\n",
       "      <td>SOCIAL</td>\n",
       "      <td>4.8</td>\n",
       "      <td>1264084</td>\n",
       "      <td>62M</td>\n",
       "      <td>10,000,000+</td>\n",
       "      <td>Free</td>\n",
       "      <td>0.00</td>\n",
       "      <td>Teen</td>\n",
       "      <td>Social</td>\n",
       "      <td>2018-08-07</td>\n",
       "      <td>1.8.19179</td>\n",
       "      <td>4.0.3 and up</td>\n",
       "    </tr>\n",
       "    <tr>\n",
       "      <th>10178</th>\n",
       "      <td>Premier League - Official App</td>\n",
       "      <td>SPORTS</td>\n",
       "      <td>4.3</td>\n",
       "      <td>63782</td>\n",
       "      <td>24M</td>\n",
       "      <td>5,000,000+</td>\n",
       "      <td>Free</td>\n",
       "      <td>0.00</td>\n",
       "      <td>Everyone</td>\n",
       "      <td>Sports</td>\n",
       "      <td>2018-08-07</td>\n",
       "      <td>1.1.5</td>\n",
       "      <td>4.1 and up</td>\n",
       "    </tr>\n",
       "  </tbody>\n",
       "</table>\n",
       "<p>1181 rows × 13 columns</p>\n",
       "</div>"
      ],
      "text/plain": [
       "                                     App   Category  Rating  Reviews  \\\n",
       "2186   Bita and the Animals - Pelos Ares     FAMILY     4.4     1160   \n",
       "2400                         AnatomyMapp    MEDICAL     4.1       80   \n",
       "1630                           Chictopia  LIFESTYLE     4.1      360   \n",
       "2252                 Essential Anatomy 3    MEDICAL     4.1     1533   \n",
       "2266                            EMT PASS    MEDICAL     3.4       51   \n",
       "...                                  ...        ...     ...      ...   \n",
       "10186                   Farm Heroes Saga     FAMILY     4.4  7615646   \n",
       "10502         Fun Kid Racing - Motocross     FAMILY     4.1    59768   \n",
       "10473            osmino Wi-Fi: free WiFi      TOOLS     4.2   134203   \n",
       "9853        Amino: Communities and Chats     SOCIAL     4.8  1264084   \n",
       "10178      Premier League - Official App     SPORTS     4.3    63782   \n",
       "\n",
       "                     Size      Installs  Type  Price Content Rating  \\\n",
       "2186                  37M      100,000+  Free   0.00       Everyone   \n",
       "2400                  48M        5,000+  Paid  14.99       Everyone   \n",
       "1630                 4.6M       10,000+  Free   0.00       Everyone   \n",
       "2252                  42M       50,000+  Paid  11.99     Mature 17+   \n",
       "2266                 2.4M        1,000+  Paid  29.99       Everyone   \n",
       "...                   ...           ...   ...    ...            ...   \n",
       "10186                 71M  100,000,000+  Free   0.00       Everyone   \n",
       "10502  Varies with device   10,000,000+  Free   0.00       Everyone   \n",
       "10473                4.1M   10,000,000+  Free   0.00       Everyone   \n",
       "9853                  62M   10,000,000+  Free   0.00           Teen   \n",
       "10178                 24M    5,000,000+  Free   0.00       Everyone   \n",
       "\n",
       "                          Genres Last Updated Current Ver   Android Ver  \n",
       "2186     Education;Music & Video   2013-05-22           1    2.2 and up  \n",
       "2400                     Medical   2013-11-05           1    3.0 and up  \n",
       "1630                   Lifestyle   2014-04-30       1.6.2    2.2 and up  \n",
       "2252                     Medical   2014-08-07       1.1.3  4.0.3 and up  \n",
       "2266                     Medical   2014-10-22       2.0.2    4.0 and up  \n",
       "...                          ...          ...         ...           ...  \n",
       "10186                     Casual   2018-08-07       5.2.6    2.3 and up  \n",
       "10502  Racing;Action & Adventure   2018-08-07        3.53    4.2 and up  \n",
       "10473                      Tools   2018-08-07     6.06.14    4.4 and up  \n",
       "9853                      Social   2018-08-07   1.8.19179  4.0.3 and up  \n",
       "10178                     Sports   2018-08-07       1.1.5    4.1 and up  \n",
       "\n",
       "[1181 rows x 13 columns]"
      ]
     },
     "execution_count": 6,
     "metadata": {},
     "output_type": "execute_result"
    }
   ],
   "source": [
    "#Finding duplicate rows based on App Name\n",
    "duplicate = playstore_df[playstore_df.duplicated('App')]\n",
    "duplicate"
   ]
  },
  {
   "cell_type": "code",
   "execution_count": 7,
   "metadata": {},
   "outputs": [
    {
     "name": "stdout",
     "output_type": "stream",
     "text": [
      "<class 'pandas.core.frame.DataFrame'>\n",
      "Int64Index: 9660 entries, 7479 to 10760\n",
      "Data columns (total 13 columns):\n",
      " #   Column          Non-Null Count  Dtype         \n",
      "---  ------          --------------  -----         \n",
      " 0   App             9659 non-null   object        \n",
      " 1   Category        9660 non-null   object        \n",
      " 2   Rating          8197 non-null   float64       \n",
      " 3   Reviews         9660 non-null   int64         \n",
      " 4   Size            9660 non-null   object        \n",
      " 5   Installs        9660 non-null   object        \n",
      " 6   Type            9659 non-null   object        \n",
      " 7   Price           9660 non-null   float64       \n",
      " 8   Content Rating  9660 non-null   object        \n",
      " 9   Genres          9659 non-null   object        \n",
      " 10  Last Updated    9660 non-null   datetime64[ns]\n",
      " 11  Current Ver     9652 non-null   object        \n",
      " 12  Android Ver     9658 non-null   object        \n",
      "dtypes: datetime64[ns](1), float64(2), int64(1), object(9)\n",
      "memory usage: 1.0+ MB\n"
     ]
    }
   ],
   "source": [
    "#Removing duplicates\n",
    "playstore_df.drop_duplicates(subset = ['App'], keep = 'last',inplace=True)\n",
    "playstore_df.info()"
   ]
  },
  {
   "cell_type": "markdown",
   "metadata": {},
   "source": [
    "After removing duplicates, 9660 unique rows remain\n"
   ]
  },
  {
   "cell_type": "code",
   "execution_count": 8,
   "metadata": {},
   "outputs": [
    {
     "data": {
      "text/plain": [
       "array(['100,000+', '50,000+', '5,000,000+', '100+', '1,000+', '5,000+',\n",
       "       '1,000,000+', '10,000,000+', '10,000+', '50+', '10+', '500,000+',\n",
       "       '500+', '5+', '50,000,000+', '1+', '0+', '100,000,000+',\n",
       "       '500,000,000+', 0, '1,000,000,000+'], dtype=object)"
      ]
     },
     "execution_count": 8,
     "metadata": {},
     "output_type": "execute_result"
    }
   ],
   "source": [
    "playstore_df['Installs'].unique()"
   ]
  },
  {
   "cell_type": "code",
   "execution_count": 9,
   "metadata": {},
   "outputs": [
    {
     "data": {
      "text/html": [
       "<div>\n",
       "<style scoped>\n",
       "    .dataframe tbody tr th:only-of-type {\n",
       "        vertical-align: middle;\n",
       "    }\n",
       "\n",
       "    .dataframe tbody tr th {\n",
       "        vertical-align: top;\n",
       "    }\n",
       "\n",
       "    .dataframe thead th {\n",
       "        text-align: right;\n",
       "    }\n",
       "</style>\n",
       "<table border=\"1\" class=\"dataframe\">\n",
       "  <thead>\n",
       "    <tr style=\"text-align: right;\">\n",
       "      <th></th>\n",
       "      <th>App</th>\n",
       "      <th>Category</th>\n",
       "      <th>Rating</th>\n",
       "      <th>Reviews</th>\n",
       "      <th>Size</th>\n",
       "      <th>Installs</th>\n",
       "      <th>Type</th>\n",
       "      <th>Price</th>\n",
       "      <th>Content Rating</th>\n",
       "      <th>Genres</th>\n",
       "      <th>Last Updated</th>\n",
       "      <th>Current Ver</th>\n",
       "      <th>Android Ver</th>\n",
       "    </tr>\n",
       "  </thead>\n",
       "  <tbody>\n",
       "    <tr>\n",
       "      <th>7479</th>\n",
       "      <td>FML F*ck my life + widget</td>\n",
       "      <td>FAMILY</td>\n",
       "      <td>4.2</td>\n",
       "      <td>1.415</td>\n",
       "      <td>209k</td>\n",
       "      <td>0.10</td>\n",
       "      <td>Free</td>\n",
       "      <td>0.0</td>\n",
       "      <td>Everyone</td>\n",
       "      <td>Entertainment</td>\n",
       "      <td>2010-05-21</td>\n",
       "      <td>3.1</td>\n",
       "      <td>1.5 and up</td>\n",
       "    </tr>\n",
       "    <tr>\n",
       "      <th>7430</th>\n",
       "      <td>CJ Poker Odds Calculator</td>\n",
       "      <td>GAME</td>\n",
       "      <td>4.1</td>\n",
       "      <td>0.207</td>\n",
       "      <td>116k</td>\n",
       "      <td>0.05</td>\n",
       "      <td>Free</td>\n",
       "      <td>0.0</td>\n",
       "      <td>Everyone</td>\n",
       "      <td>Card</td>\n",
       "      <td>2011-01-30</td>\n",
       "      <td>1.2</td>\n",
       "      <td>1.6 and up</td>\n",
       "    </tr>\n",
       "    <tr>\n",
       "      <th>10282</th>\n",
       "      <td>FD Shift Calendar Widget</td>\n",
       "      <td>TOOLS</td>\n",
       "      <td>4.1</td>\n",
       "      <td>0.981</td>\n",
       "      <td>73k</td>\n",
       "      <td>0.10</td>\n",
       "      <td>Free</td>\n",
       "      <td>0.0</td>\n",
       "      <td>Everyone</td>\n",
       "      <td>Tools</td>\n",
       "      <td>2011-03-16</td>\n",
       "      <td>1.2.4</td>\n",
       "      <td>1.6 and up</td>\n",
       "    </tr>\n",
       "    <tr>\n",
       "      <th>8418</th>\n",
       "      <td>DEER HUNTER CHALLENGE</td>\n",
       "      <td>GAME</td>\n",
       "      <td>3.7</td>\n",
       "      <td>38.767</td>\n",
       "      <td>4.1M</td>\n",
       "      <td>5.00</td>\n",
       "      <td>Free</td>\n",
       "      <td>0.0</td>\n",
       "      <td>Everyone 10+</td>\n",
       "      <td>Action</td>\n",
       "      <td>2011-04-11</td>\n",
       "      <td>1.4.3</td>\n",
       "      <td>2.0 and up</td>\n",
       "    </tr>\n",
       "    <tr>\n",
       "      <th>8084</th>\n",
       "      <td>Freecell CY</td>\n",
       "      <td>GAME</td>\n",
       "      <td>4.0</td>\n",
       "      <td>0.387</td>\n",
       "      <td>1.1M</td>\n",
       "      <td>0.05</td>\n",
       "      <td>Free</td>\n",
       "      <td>0.0</td>\n",
       "      <td>Everyone</td>\n",
       "      <td>Card</td>\n",
       "      <td>2011-04-16</td>\n",
       "      <td>1.3.3</td>\n",
       "      <td>1.6 and up</td>\n",
       "    </tr>\n",
       "  </tbody>\n",
       "</table>\n",
       "</div>"
      ],
      "text/plain": [
       "                             App Category  Rating  Reviews  Size  Installs  \\\n",
       "7479   FML F*ck my life + widget   FAMILY     4.2    1.415  209k      0.10   \n",
       "7430    CJ Poker Odds Calculator     GAME     4.1    0.207  116k      0.05   \n",
       "10282   FD Shift Calendar Widget    TOOLS     4.1    0.981   73k      0.10   \n",
       "8418       DEER HUNTER CHALLENGE     GAME     3.7   38.767  4.1M      5.00   \n",
       "8084                 Freecell CY     GAME     4.0    0.387  1.1M      0.05   \n",
       "\n",
       "       Type  Price Content Rating         Genres Last Updated Current Ver  \\\n",
       "7479   Free    0.0       Everyone  Entertainment   2010-05-21         3.1   \n",
       "7430   Free    0.0       Everyone           Card   2011-01-30         1.2   \n",
       "10282  Free    0.0       Everyone          Tools   2011-03-16       1.2.4   \n",
       "8418   Free    0.0   Everyone 10+         Action   2011-04-11       1.4.3   \n",
       "8084   Free    0.0       Everyone           Card   2011-04-16       1.3.3   \n",
       "\n",
       "      Android Ver  \n",
       "7479   1.5 and up  \n",
       "7430   1.6 and up  \n",
       "10282  1.6 and up  \n",
       "8418   2.0 and up  \n",
       "8084   1.6 and up  "
      ]
     },
     "execution_count": 9,
     "metadata": {},
     "output_type": "execute_result"
    }
   ],
   "source": [
    "#Standardizing Reviews and No of Installations\n",
    "playstore_df['Reviews'] = playstore_df['Reviews']/1000\n",
    "playstore_df['Installs'] = playstore_df['Installs'].str.replace('[+,,]', '').astype(float)/1000000\n",
    "playstore_df.head()"
   ]
  },
  {
   "cell_type": "code",
   "execution_count": 10,
   "metadata": {},
   "outputs": [
    {
     "name": "stdout",
     "output_type": "stream",
     "text": [
      "<class 'pandas.core.frame.DataFrame'>\n",
      "Int64Index: 9660 entries, 7479 to 10760\n",
      "Data columns (total 13 columns):\n",
      " #   Column          Non-Null Count  Dtype         \n",
      "---  ------          --------------  -----         \n",
      " 0   App             9659 non-null   object        \n",
      " 1   Category        9660 non-null   object        \n",
      " 2   Rating          8197 non-null   float64       \n",
      " 3   Reviews         9660 non-null   float64       \n",
      " 4   Size            8431 non-null   float64       \n",
      " 5   Installs        9659 non-null   float64       \n",
      " 6   Type            9659 non-null   object        \n",
      " 7   Price           9660 non-null   float64       \n",
      " 8   Content Rating  9660 non-null   object        \n",
      " 9   Genres          9659 non-null   object        \n",
      " 10  Last Updated    9660 non-null   datetime64[ns]\n",
      " 11  Current Ver     9652 non-null   object        \n",
      " 12  Android Ver     9658 non-null   object        \n",
      "dtypes: datetime64[ns](1), float64(5), object(7)\n",
      "memory usage: 1.0+ MB\n"
     ]
    }
   ],
   "source": [
    "#Standardizing App Size\n",
    "playstore_df['Size'] = playstore_df['Size'].str[:-1].replace('Varies',np.nan,regex=True).astype(float).where(playstore_df['Size'].str[-1] != 'k',playstore_df['Size'].str[:-1].replace('Varies',np.nan,regex=True).astype(float)/1000)\n",
    "playstore_df.info()"
   ]
  },
  {
   "cell_type": "code",
   "execution_count": 11,
   "metadata": {},
   "outputs": [
    {
     "data": {
      "text/html": [
       "<div>\n",
       "<style scoped>\n",
       "    .dataframe tbody tr th:only-of-type {\n",
       "        vertical-align: middle;\n",
       "    }\n",
       "\n",
       "    .dataframe tbody tr th {\n",
       "        vertical-align: top;\n",
       "    }\n",
       "\n",
       "    .dataframe thead th {\n",
       "        text-align: right;\n",
       "    }\n",
       "</style>\n",
       "<table border=\"1\" class=\"dataframe\">\n",
       "  <thead>\n",
       "    <tr style=\"text-align: right;\">\n",
       "      <th></th>\n",
       "      <th>Rating</th>\n",
       "      <th>Reviews</th>\n",
       "      <th>Size</th>\n",
       "      <th>Installs</th>\n",
       "      <th>Price</th>\n",
       "    </tr>\n",
       "  </thead>\n",
       "  <tbody>\n",
       "    <tr>\n",
       "      <th>count</th>\n",
       "      <td>8197.000000</td>\n",
       "      <td>9660.000000</td>\n",
       "      <td>8431.000000</td>\n",
       "      <td>9659.000000</td>\n",
       "      <td>9660.000000</td>\n",
       "    </tr>\n",
       "    <tr>\n",
       "      <th>mean</th>\n",
       "      <td>4.173015</td>\n",
       "      <td>216.705505</td>\n",
       "      <td>20.398657</td>\n",
       "      <td>7.797747</td>\n",
       "      <td>1.097117</td>\n",
       "    </tr>\n",
       "    <tr>\n",
       "      <th>std</th>\n",
       "      <td>0.536807</td>\n",
       "      <td>1830.980062</td>\n",
       "      <td>21.828324</td>\n",
       "      <td>53.769767</td>\n",
       "      <td>16.850750</td>\n",
       "    </tr>\n",
       "    <tr>\n",
       "      <th>min</th>\n",
       "      <td>1.000000</td>\n",
       "      <td>0.000000</td>\n",
       "      <td>0.008500</td>\n",
       "      <td>0.000000</td>\n",
       "      <td>0.000000</td>\n",
       "    </tr>\n",
       "    <tr>\n",
       "      <th>25%</th>\n",
       "      <td>4.000000</td>\n",
       "      <td>0.025000</td>\n",
       "      <td>4.600000</td>\n",
       "      <td>0.001000</td>\n",
       "      <td>0.000000</td>\n",
       "    </tr>\n",
       "    <tr>\n",
       "      <th>50%</th>\n",
       "      <td>4.300000</td>\n",
       "      <td>0.969000</td>\n",
       "      <td>12.000000</td>\n",
       "      <td>0.100000</td>\n",
       "      <td>0.000000</td>\n",
       "    </tr>\n",
       "    <tr>\n",
       "      <th>75%</th>\n",
       "      <td>4.500000</td>\n",
       "      <td>29.438250</td>\n",
       "      <td>28.000000</td>\n",
       "      <td>1.000000</td>\n",
       "      <td>0.000000</td>\n",
       "    </tr>\n",
       "    <tr>\n",
       "      <th>max</th>\n",
       "      <td>5.000000</td>\n",
       "      <td>78128.208000</td>\n",
       "      <td>100.000000</td>\n",
       "      <td>1000.000000</td>\n",
       "      <td>400.000000</td>\n",
       "    </tr>\n",
       "  </tbody>\n",
       "</table>\n",
       "</div>"
      ],
      "text/plain": [
       "            Rating       Reviews         Size     Installs        Price\n",
       "count  8197.000000   9660.000000  8431.000000  9659.000000  9660.000000\n",
       "mean      4.173015    216.705505    20.398657     7.797747     1.097117\n",
       "std       0.536807   1830.980062    21.828324    53.769767    16.850750\n",
       "min       1.000000      0.000000     0.008500     0.000000     0.000000\n",
       "25%       4.000000      0.025000     4.600000     0.001000     0.000000\n",
       "50%       4.300000      0.969000    12.000000     0.100000     0.000000\n",
       "75%       4.500000     29.438250    28.000000     1.000000     0.000000\n",
       "max       5.000000  78128.208000   100.000000  1000.000000   400.000000"
      ]
     },
     "execution_count": 11,
     "metadata": {},
     "output_type": "execute_result"
    }
   ],
   "source": [
    "playstore_df.describe()"
   ]
  },
  {
   "cell_type": "markdown",
   "metadata": {},
   "source": [
    "Working on missing values"
   ]
  },
  {
   "cell_type": "code",
   "execution_count": 12,
   "metadata": {},
   "outputs": [
    {
     "name": "stdout",
     "output_type": "stream",
     "text": [
      "Missing values:  App                  1\n",
      "Category             0\n",
      "Rating            1463\n",
      "Reviews              0\n",
      "Size              1229\n",
      "Installs             1\n",
      "Type                 1\n",
      "Price                0\n",
      "Content Rating       0\n",
      "Genres               1\n",
      "Last Updated         0\n",
      "Current Ver          8\n",
      "Android Ver          2\n",
      "dtype: int64\n"
     ]
    }
   ],
   "source": [
    "def me():\n",
    "    print('Missing values: ', playstore_df.isnull().sum())\n",
    "me()"
   ]
  },
  {
   "cell_type": "code",
   "execution_count": 13,
   "metadata": {},
   "outputs": [
    {
     "data": {
      "text/html": [
       "<div>\n",
       "<style scoped>\n",
       "    .dataframe tbody tr th:only-of-type {\n",
       "        vertical-align: middle;\n",
       "    }\n",
       "\n",
       "    .dataframe tbody tr th {\n",
       "        vertical-align: top;\n",
       "    }\n",
       "\n",
       "    .dataframe thead th {\n",
       "        text-align: right;\n",
       "    }\n",
       "</style>\n",
       "<table border=\"1\" class=\"dataframe\">\n",
       "  <thead>\n",
       "    <tr style=\"text-align: right;\">\n",
       "      <th></th>\n",
       "      <th>App</th>\n",
       "      <th>Category</th>\n",
       "      <th>Rating</th>\n",
       "      <th>Reviews</th>\n",
       "      <th>Size</th>\n",
       "      <th>Installs</th>\n",
       "      <th>Type</th>\n",
       "      <th>Price</th>\n",
       "      <th>Content Rating</th>\n",
       "      <th>Genres</th>\n",
       "      <th>Last Updated</th>\n",
       "      <th>Current Ver</th>\n",
       "      <th>Android Ver</th>\n",
       "    </tr>\n",
       "  </thead>\n",
       "  <tbody>\n",
       "    <tr>\n",
       "      <th>9148</th>\n",
       "      <td>Command &amp; Conquer: Rivals</td>\n",
       "      <td>FAMILY</td>\n",
       "      <td>NaN</td>\n",
       "      <td>0.0</td>\n",
       "      <td>NaN</td>\n",
       "      <td>NaN</td>\n",
       "      <td>NaN</td>\n",
       "      <td>0.0</td>\n",
       "      <td>Everyone 10+</td>\n",
       "      <td>Strategy</td>\n",
       "      <td>2018-06-28</td>\n",
       "      <td>Varies with device</td>\n",
       "      <td>Varies with device</td>\n",
       "    </tr>\n",
       "  </tbody>\n",
       "</table>\n",
       "</div>"
      ],
      "text/plain": [
       "                            App Category  Rating  Reviews  Size  Installs  \\\n",
       "9148  Command & Conquer: Rivals   FAMILY     NaN      0.0   NaN       NaN   \n",
       "\n",
       "     Type  Price Content Rating    Genres Last Updated         Current Ver  \\\n",
       "9148  NaN    0.0   Everyone 10+  Strategy   2018-06-28  Varies with device   \n",
       "\n",
       "             Android Ver  \n",
       "9148  Varies with device  "
      ]
     },
     "execution_count": 13,
     "metadata": {},
     "output_type": "execute_result"
    }
   ],
   "source": [
    "playstore_df[playstore_df.Type.isnull()]"
   ]
  },
  {
   "cell_type": "markdown",
   "metadata": {},
   "source": [
    "The same row/record counts for single missing value of Installs and Type and has not much information and can be dropped"
   ]
  },
  {
   "cell_type": "code",
   "execution_count": 14,
   "metadata": {},
   "outputs": [],
   "source": [
    "playstore_df.drop(playstore_df[playstore_df.Type.isnull()].index, inplace = True) "
   ]
  },
  {
   "cell_type": "code",
   "execution_count": 15,
   "metadata": {},
   "outputs": [
    {
     "name": "stdout",
     "output_type": "stream",
     "text": [
      "<class 'pandas.core.frame.DataFrame'>\n",
      "Int64Index: 9659 entries, 7479 to 10760\n",
      "Data columns (total 13 columns):\n",
      " #   Column          Non-Null Count  Dtype         \n",
      "---  ------          --------------  -----         \n",
      " 0   App             9658 non-null   object        \n",
      " 1   Category        9659 non-null   object        \n",
      " 2   Rating          8197 non-null   float64       \n",
      " 3   Reviews         9659 non-null   float64       \n",
      " 4   Size            8431 non-null   float64       \n",
      " 5   Installs        9659 non-null   float64       \n",
      " 6   Type            9659 non-null   object        \n",
      " 7   Price           9659 non-null   float64       \n",
      " 8   Content Rating  9659 non-null   object        \n",
      " 9   Genres          9658 non-null   object        \n",
      " 10  Last Updated    9659 non-null   datetime64[ns]\n",
      " 11  Current Ver     9651 non-null   object        \n",
      " 12  Android Ver     9657 non-null   object        \n",
      "dtypes: datetime64[ns](1), float64(5), object(7)\n",
      "memory usage: 1.0+ MB\n"
     ]
    }
   ],
   "source": [
    "playstore_df.info()"
   ]
  },
  {
   "cell_type": "code",
   "execution_count": 16,
   "metadata": {},
   "outputs": [],
   "source": [
    "#Filling missing values for Size and Rating by Category wise average\n",
    "playstore_df['Size'] = playstore_df.groupby(['Category'], sort=False)['Size'].apply(lambda x: x.fillna(x.mean()))\n",
    "playstore_df['Rating'] = playstore_df.groupby(['Category'], sort=False)['Rating'].apply(lambda x: x.fillna(x.mean()))"
   ]
  },
  {
   "cell_type": "code",
   "execution_count": 17,
   "metadata": {},
   "outputs": [
    {
     "name": "stdout",
     "output_type": "stream",
     "text": [
      "Missing values:  App               1\n",
      "Category          0\n",
      "Rating            0\n",
      "Reviews           0\n",
      "Size              0\n",
      "Installs          0\n",
      "Type              0\n",
      "Price             0\n",
      "Content Rating    0\n",
      "Genres            1\n",
      "Last Updated      0\n",
      "Current Ver       8\n",
      "Android Ver       2\n",
      "dtype: int64\n"
     ]
    }
   ],
   "source": [
    "def me():\n",
    "    print('Missing values: ', playstore_df.isnull().sum())\n",
    "me()"
   ]
  },
  {
   "cell_type": "markdown",
   "metadata": {},
   "source": [
    "Call on App Versions and Genres missing value will be taken after some EDA on relationship between the columns"
   ]
  },
  {
   "cell_type": "markdown",
   "metadata": {},
   "source": [
    "# <a id=section5></a>\n",
    "## 5 Exploratory Data Analysis"
   ]
  },
  {
   "cell_type": "markdown",
   "metadata": {},
   "source": [
    "\n",
    "<center><img src = 'https://github.com/Shailee06/Images/blob/main/AppCategory3.jpg?raw=true'></center>"
   ]
  },
  {
   "cell_type": "code",
   "execution_count": 18,
   "metadata": {},
   "outputs": [
    {
     "data": {
      "text/plain": [
       "<Figure size 720x360 with 0 Axes>"
      ]
     },
     "metadata": {},
     "output_type": "display_data"
    }
   ],
   "source": [
    "# Creating color schemes to be used across graphs below\n",
    "\n",
    "colors_All = ['#01CCFF', '#F7344C', '#0FF17E', '#FECD03']\n",
    "color_R = \"#F7344C\"\n",
    "color_B = \"#01CCFF\" \n",
    "color_G = \"#0FF17E\"\n",
    "color_Y = \"#FECD03\"\n",
    "color_LG = \"#F0EEF0\"\n",
    "\n",
    "plt.figure(figsize=(10,5))\n",
    "plt.rcParams.update({'text.color':'#585858','axes.labelcolor':'#585858','xtick.color':'#585858','ytick.color':'#585858'})\n"
   ]
  },
  {
   "cell_type": "markdown",
   "metadata": {},
   "source": [
    "# <a id=section501></a>\n",
    "### 5.1 How many categories are there in total and what is the counts of apps in each?"
   ]
  },
  {
   "cell_type": "code",
   "execution_count": 19,
   "metadata": {},
   "outputs": [
    {
     "name": "stdout",
     "output_type": "stream",
     "text": [
      "The Total no of unique app categories is  33\n",
      "Category\n",
      "FAMILY                 1875\n",
      "GAME                    944\n",
      "TOOLS                   829\n",
      "BUSINESS                419\n",
      "MEDICAL                 395\n",
      "PERSONALIZATION         376\n",
      "PRODUCTIVITY            374\n",
      "LIFESTYLE               369\n",
      "FINANCE                 345\n",
      "SPORTS                  325\n",
      "COMMUNICATION           316\n",
      "HEALTH_AND_FITNESS      288\n",
      "PHOTOGRAPHY             282\n",
      "NEWS_AND_MAGAZINES      254\n",
      "SOCIAL                  239\n",
      "BOOKS_AND_REFERENCE     222\n",
      "TRAVEL_AND_LOCAL        219\n",
      "SHOPPING                202\n",
      "DATING                  170\n",
      "VIDEO_PLAYERS           162\n",
      "MAPS_AND_NAVIGATION     131\n",
      "FOOD_AND_DRINK          112\n",
      "EDUCATION               105\n",
      "ENTERTAINMENT            90\n",
      "AUTO_AND_VEHICLES        85\n",
      "LIBRARIES_AND_DEMO       84\n",
      "WEATHER                  79\n",
      "HOUSE_AND_HOME           73\n",
      "EVENTS                   64\n",
      "ART_AND_DESIGN           62\n",
      "PARENTING                60\n",
      "COMICS                   56\n",
      "BEAUTY                   53\n",
      "Name: Category, dtype: int64\n"
     ]
    }
   ],
   "source": [
    "print(\"The Total no of unique app categories is \", playstore_df['Category'].nunique())\n",
    "print(playstore_df.groupby(['Category'])['Category'].count().sort_values(ascending=False))"
   ]
  },
  {
   "cell_type": "markdown",
   "metadata": {},
   "source": [
    "# <a id=section502></a>\n",
    "### 5.2 What is the count of unique genres under each category?"
   ]
  },
  {
   "cell_type": "code",
   "execution_count": 20,
   "metadata": {},
   "outputs": [
    {
     "name": "stdout",
     "output_type": "stream",
     "text": [
      "118\n",
      "Category\n",
      "FAMILY                 71\n",
      "GAME                   21\n",
      "EDUCATION               5\n",
      "PARENTING               4\n",
      "ENTERTAINMENT           4\n",
      "ART_AND_DESIGN          3\n",
      "COMICS                  2\n",
      "TOOLS                   2\n",
      "LIFESTYLE               2\n",
      "TRAVEL_AND_LOCAL        2\n",
      "BOOKS_AND_REFERENCE     1\n",
      "BUSINESS                1\n",
      "FOOD_AND_DRINK          1\n",
      "BEAUTY                  1\n",
      "DATING                  1\n",
      "AUTO_AND_VEHICLES       1\n",
      "EVENTS                  1\n",
      "FINANCE                 1\n",
      "COMMUNICATION           1\n",
      "WEATHER                 1\n",
      "HEALTH_AND_FITNESS      1\n",
      "VIDEO_PLAYERS           1\n",
      "LIBRARIES_AND_DEMO      1\n",
      "MAPS_AND_NAVIGATION     1\n",
      "MEDICAL                 1\n",
      "NEWS_AND_MAGAZINES      1\n",
      "PERSONALIZATION         1\n",
      "PHOTOGRAPHY             1\n",
      "PRODUCTIVITY            1\n",
      "SHOPPING                1\n",
      "SOCIAL                  1\n",
      "SPORTS                  1\n",
      "HOUSE_AND_HOME          1\n",
      "Name: Genres, dtype: int64\n"
     ]
    }
   ],
   "source": [
    "print(playstore_df['Genres'].nunique())\n",
    "print(playstore_df.groupby(['Category'])['Genres'].nunique().sort_values(ascending=False))"
   ]
  },
  {
   "cell_type": "code",
   "execution_count": 21,
   "metadata": {},
   "outputs": [
    {
     "name": "stdout",
     "output_type": "stream",
     "text": [
      "['Everyone' 'Everyone 10+' 'Teen' 'Unrated' 'Mature 17+' 'Adults only 18+']\n"
     ]
    }
   ],
   "source": [
    "print(playstore_df['Content Rating'].unique())"
   ]
  },
  {
   "cell_type": "markdown",
   "metadata": {},
   "source": [
    "# <a id=section503></a>\n",
    "### 5.3 Standardizing values of Content Rating"
   ]
  },
  {
   "cell_type": "code",
   "execution_count": 22,
   "metadata": {},
   "outputs": [
    {
     "name": "stdout",
     "output_type": "stream",
     "text": [
      "['Everyone' 'Teen' 'Unrated' 'Adult']\n"
     ]
    }
   ],
   "source": [
    "playstore_df['Content Rating'] = playstore_df['Content Rating'].str.replace(\"Everyone 10+\",\"Everyone\")\n",
    "playstore_df['Content Rating'] = playstore_df['Content Rating'].str.replace(\"Mature 17+\",\"Adult\")\n",
    "playstore_df['Content Rating'] = playstore_df['Content Rating'].str.replace(\"Adults only 18+\",\"Adult\")\n",
    "playstore_df['Content Rating'] = playstore_df['Content Rating'].str.replace(\"+\",\"\")\n",
    "print(playstore_df['Content Rating'].unique())"
   ]
  },
  {
   "cell_type": "code",
   "execution_count": 23,
   "metadata": {},
   "outputs": [
    {
     "name": "stdout",
     "output_type": "stream",
     "text": [
      "['Free' 'Paid']\n"
     ]
    }
   ],
   "source": [
    "print(playstore_df['Type'].unique())"
   ]
  },
  {
   "cell_type": "markdown",
   "metadata": {},
   "source": [
    "# <a id=section504></a>\n",
    "### 5.4 What are the top 10 categories by count of apps?"
   ]
  },
  {
   "cell_type": "code",
   "execution_count": 24,
   "metadata": {},
   "outputs": [
    {
     "data": {
      "image/png": "[encoded data removed]",
      "text/plain": [
       "<Figure size 720x360 with 1 Axes>"
      ]
     },
     "metadata": {},
     "output_type": "display_data"
    }
   ],
   "source": [
    "playstore_df.groupby(['Category'])['Category'].count().sort_values(ascending = False).head(10).plot(kind='bar', figsize=(10,5), fontsize=13, color=colors_All)\n",
    "plt.title('Top 10 Categories by count of Apps',fontweight=\"bold\")\n",
    "plt.xlabel('Category')\n",
    "plt.ylabel('Count of Apps')\n",
    "plt.box(on=None)\n",
    "plt.savefig('Cat-App-Count.png', dpi=300, bbox_inches='tight') \n",
    "plt.show()"
   ]
  },
  {
   "cell_type": "markdown",
   "metadata": {},
   "source": [
    "# <a id=section505></a>\n",
    "### 5.5 What is the Rating distribution?"
   ]
  },
  {
   "cell_type": "code",
   "execution_count": 25,
   "metadata": {},
   "outputs": [
    {
     "data": {
      "image/png": "[encoded data removed]",
      "text/plain": [
       "<Figure size 720x360 with 1 Axes>"
      ]
     },
     "metadata": {},
     "output_type": "display_data"
    }
   ],
   "source": [
    "playstore_df['Rating'].plot(kind='kde', figsize=(10,5), color=color_R)\n",
    "\n",
    "plt.xlabel('Ratings')\n",
    "plt.ylabel('Density')\n",
    "plt.title('KDE plot showing the density of Ratings',fontweight=\"bold\")\n",
    "plt.box(on=None)\n",
    "plt.savefig('Rat-KDE.png', dpi=300, bbox_inches='tight') \n",
    "plt.show()"
   ]
  },
  {
   "cell_type": "code",
   "execution_count": 26,
   "metadata": {},
   "outputs": [
    {
     "data": {
      "text/html": [
       "<div>\n",
       "<style scoped>\n",
       "    .dataframe tbody tr th:only-of-type {\n",
       "        vertical-align: middle;\n",
       "    }\n",
       "\n",
       "    .dataframe tbody tr th {\n",
       "        vertical-align: top;\n",
       "    }\n",
       "\n",
       "    .dataframe thead th {\n",
       "        text-align: right;\n",
       "    }\n",
       "</style>\n",
       "<table border=\"1\" class=\"dataframe\">\n",
       "  <thead>\n",
       "    <tr style=\"text-align: right;\">\n",
       "      <th></th>\n",
       "      <th>Category</th>\n",
       "      <th>Size</th>\n",
       "      <th>Installs</th>\n",
       "      <th>Type</th>\n",
       "      <th>Price</th>\n",
       "      <th>Content Rating</th>\n",
       "    </tr>\n",
       "  </thead>\n",
       "  <tbody>\n",
       "    <tr>\n",
       "      <th>7479</th>\n",
       "      <td>FAMILY</td>\n",
       "      <td>0.209</td>\n",
       "      <td>0.10</td>\n",
       "      <td>Free</td>\n",
       "      <td>0.0</td>\n",
       "      <td>Everyone</td>\n",
       "    </tr>\n",
       "    <tr>\n",
       "      <th>7430</th>\n",
       "      <td>GAME</td>\n",
       "      <td>0.116</td>\n",
       "      <td>0.05</td>\n",
       "      <td>Free</td>\n",
       "      <td>0.0</td>\n",
       "      <td>Everyone</td>\n",
       "    </tr>\n",
       "    <tr>\n",
       "      <th>10282</th>\n",
       "      <td>TOOLS</td>\n",
       "      <td>0.073</td>\n",
       "      <td>0.10</td>\n",
       "      <td>Free</td>\n",
       "      <td>0.0</td>\n",
       "      <td>Everyone</td>\n",
       "    </tr>\n",
       "    <tr>\n",
       "      <th>8418</th>\n",
       "      <td>GAME</td>\n",
       "      <td>4.100</td>\n",
       "      <td>5.00</td>\n",
       "      <td>Free</td>\n",
       "      <td>0.0</td>\n",
       "      <td>Everyone</td>\n",
       "    </tr>\n",
       "    <tr>\n",
       "      <th>8084</th>\n",
       "      <td>GAME</td>\n",
       "      <td>1.100</td>\n",
       "      <td>0.05</td>\n",
       "      <td>Free</td>\n",
       "      <td>0.0</td>\n",
       "      <td>Everyone</td>\n",
       "    </tr>\n",
       "  </tbody>\n",
       "</table>\n",
       "</div>"
      ],
      "text/plain": [
       "      Category   Size  Installs  Type  Price Content Rating\n",
       "7479    FAMILY  0.209      0.10  Free    0.0       Everyone\n",
       "7430      GAME  0.116      0.05  Free    0.0       Everyone\n",
       "10282    TOOLS  0.073      0.10  Free    0.0       Everyone\n",
       "8418      GAME  4.100      5.00  Free    0.0       Everyone\n",
       "8084      GAME  1.100      0.05  Free    0.0       Everyone"
      ]
     },
     "execution_count": 26,
     "metadata": {},
     "output_type": "execute_result"
    }
   ],
   "source": [
    "playstore_df = playstore_df.drop(['App','Genres','Rating','Reviews','Last Updated','Current Ver','Android Ver'], axis = 1)\n",
    "playstore_df.head()"
   ]
  },
  {
   "cell_type": "code",
   "execution_count": 27,
   "metadata": {},
   "outputs": [
    {
     "name": "stdout",
     "output_type": "stream",
     "text": [
      "<class 'pandas.core.frame.DataFrame'>\n",
      "Int64Index: 9659 entries, 7479 to 10760\n",
      "Data columns (total 6 columns):\n",
      " #   Column          Non-Null Count  Dtype  \n",
      "---  ------          --------------  -----  \n",
      " 0   Category        9659 non-null   object \n",
      " 1   Size            9659 non-null   float64\n",
      " 2   Installs        9659 non-null   float64\n",
      " 3   Type            9659 non-null   object \n",
      " 4   Price           9659 non-null   float64\n",
      " 5   Content Rating  9659 non-null   object \n",
      "dtypes: float64(3), object(3)\n",
      "memory usage: 848.2+ KB\n"
     ]
    }
   ],
   "source": [
    "playstore_df.info()"
   ]
  },
  {
   "cell_type": "markdown",
   "metadata": {},
   "source": [
    "# <a id=section506></a>\n",
    "### 5.6 Correlation of attributes based on categories"
   ]
  },
  {
   "cell_type": "code",
   "execution_count": 28,
   "metadata": {},
   "outputs": [
    {
     "data": {
      "image/png": "[encoded data removed]",
      "text/plain": [
       "<Figure size 720x360 with 2 Axes>"
      ]
     },
     "metadata": {},
     "output_type": "display_data"
    }
   ],
   "source": [
    "features_correlation = playstore_df.corr()\n",
    "fig, ax = plt.subplots(figsize=(10,5))\n",
    "sns.heatmap(features_correlation,vmax=1,ax=ax,square=True,annot=True,cmap=\"Wistia\")\n",
    "plt.title('Heatmap showing the correlation between attributes',fontweight=\"bold\")\n",
    "plt.savefig('Corr-HeatMap.png', dpi=300, bbox_inches='tight') \n",
    "plt.show()"
   ]
  },
  {
   "cell_type": "markdown",
   "metadata": {},
   "source": [
    "# <a id=section507></a>\n",
    "### 5.7 Observations\n",
    "\n",
    "Genres distribution is highly imbalanced and does not provide much information <br>\n",
    "Ratings have no major impact. Most ratings lie in highest band.<br>\n",
    "\n",
    "\n",
    "Attributes which are ignored for prediction are:\n",
    "- App Name\n",
    "- Genres\n",
    "- Ratings \n",
    "- Reviews\n",
    "- App Versions\n",
    "- Last updated date\n",
    "\n",
    "Attributes that wll be considered for prediction are:\n",
    "- Category\n",
    "- Content Rating\n",
    "- Size\n",
    "- Installs\n",
    "\n",
    "We will use **Classification** algorithms to determine **Type** of the App i.e. **\"Free\"** or **\"Paid\"**\n",
    "And we will use **Regression** algorithms to determine the approx. **Price** for the App."
   ]
  },
  {
   "cell_type": "markdown",
   "metadata": {},
   "source": [
    "# <a id=section6></a>\n",
    "## 6. Classification"
   ]
  },
  {
   "cell_type": "markdown",
   "metadata": {},
   "source": [
    "# <a id=section601></a>\n",
    "### 6.1. Data Preparation for ML"
   ]
  },
  {
   "cell_type": "code",
   "execution_count": 29,
   "metadata": {},
   "outputs": [],
   "source": [
    "playstore_cat=playstore_df[['Category', 'Content Rating','Type']]"
   ]
  },
  {
   "cell_type": "code",
   "execution_count": 30,
   "metadata": {},
   "outputs": [],
   "source": [
    "playstore_cont = playstore_df[['Size', 'Installs','Price']]"
   ]
  },
  {
   "cell_type": "code",
   "execution_count": 31,
   "metadata": {},
   "outputs": [],
   "source": [
    "from sklearn.preprocessing import LabelEncoder\n",
    "def Label(playstore_cat):\n",
    "    return playstore_cat.apply(LabelEncoder().fit_transform)\n",
    "playstore_cat = Label(playstore_cat)"
   ]
  },
  {
   "cell_type": "markdown",
   "metadata": {
    "colab_type": "text",
    "id": "SuRcfr_oU8nY"
   },
   "source": [
    "### Combining the numerical and categorical dataset."
   ]
  },
  {
   "cell_type": "code",
   "execution_count": 32,
   "metadata": {},
   "outputs": [],
   "source": [
    "ps_final= pd.concat([playstore_cont, playstore_cat], axis = 1)"
   ]
  },
  {
   "cell_type": "code",
   "execution_count": 33,
   "metadata": {},
   "outputs": [],
   "source": [
    "ps_final1 = ps_final.drop(['Price'],axis = 1)"
   ]
  },
  {
   "cell_type": "markdown",
   "metadata": {
    "colab_type": "text",
    "id": "CcPZnIwUoXsz"
   },
   "source": [
    "### Extract the independent columns to prepare X "
   ]
  },
  {
   "cell_type": "code",
   "execution_count": 34,
   "metadata": {},
   "outputs": [
    {
     "data": {
      "text/html": [
       "<div>\n",
       "<style scoped>\n",
       "    .dataframe tbody tr th:only-of-type {\n",
       "        vertical-align: middle;\n",
       "    }\n",
       "\n",
       "    .dataframe tbody tr th {\n",
       "        vertical-align: top;\n",
       "    }\n",
       "\n",
       "    .dataframe thead th {\n",
       "        text-align: right;\n",
       "    }\n",
       "</style>\n",
       "<table border=\"1\" class=\"dataframe\">\n",
       "  <thead>\n",
       "    <tr style=\"text-align: right;\">\n",
       "      <th></th>\n",
       "      <th>Size</th>\n",
       "      <th>Installs</th>\n",
       "      <th>Category</th>\n",
       "      <th>Content Rating</th>\n",
       "    </tr>\n",
       "  </thead>\n",
       "  <tbody>\n",
       "    <tr>\n",
       "      <th>7479</th>\n",
       "      <td>0.209</td>\n",
       "      <td>0.10</td>\n",
       "      <td>11</td>\n",
       "      <td>1</td>\n",
       "    </tr>\n",
       "    <tr>\n",
       "      <th>7430</th>\n",
       "      <td>0.116</td>\n",
       "      <td>0.05</td>\n",
       "      <td>14</td>\n",
       "      <td>1</td>\n",
       "    </tr>\n",
       "    <tr>\n",
       "      <th>10282</th>\n",
       "      <td>0.073</td>\n",
       "      <td>0.10</td>\n",
       "      <td>29</td>\n",
       "      <td>1</td>\n",
       "    </tr>\n",
       "    <tr>\n",
       "      <th>8418</th>\n",
       "      <td>4.100</td>\n",
       "      <td>5.00</td>\n",
       "      <td>14</td>\n",
       "      <td>1</td>\n",
       "    </tr>\n",
       "    <tr>\n",
       "      <th>8084</th>\n",
       "      <td>1.100</td>\n",
       "      <td>0.05</td>\n",
       "      <td>14</td>\n",
       "      <td>1</td>\n",
       "    </tr>\n",
       "  </tbody>\n",
       "</table>\n",
       "</div>"
      ],
      "text/plain": [
       "        Size  Installs  Category  Content Rating\n",
       "7479   0.209      0.10        11               1\n",
       "7430   0.116      0.05        14               1\n",
       "10282  0.073      0.10        29               1\n",
       "8418   4.100      5.00        14               1\n",
       "8084   1.100      0.05        14               1"
      ]
     },
     "execution_count": 34,
     "metadata": {},
     "output_type": "execute_result"
    }
   ],
   "source": [
    "X = pd.DataFrame()\n",
    "def me():\n",
    "    X = ps_final1.loc[:,ps_final1.columns != 'Type']\n",
    "    return X\n",
    "X = me()\n",
    "X.head()"
   ]
  },
  {
   "cell_type": "markdown",
   "metadata": {
    "colab_type": "text",
    "id": "wHcJANUYoXtF"
   },
   "source": [
    "### Extract dependent column into a dataframe 'y' for model prediction"
   ]
  },
  {
   "cell_type": "code",
   "execution_count": 35,
   "metadata": {},
   "outputs": [
    {
     "data": {
      "text/html": [
       "<div>\n",
       "<style scoped>\n",
       "    .dataframe tbody tr th:only-of-type {\n",
       "        vertical-align: middle;\n",
       "    }\n",
       "\n",
       "    .dataframe tbody tr th {\n",
       "        vertical-align: top;\n",
       "    }\n",
       "\n",
       "    .dataframe thead th {\n",
       "        text-align: right;\n",
       "    }\n",
       "</style>\n",
       "<table border=\"1\" class=\"dataframe\">\n",
       "  <thead>\n",
       "    <tr style=\"text-align: right;\">\n",
       "      <th></th>\n",
       "      <th>Type</th>\n",
       "    </tr>\n",
       "  </thead>\n",
       "  <tbody>\n",
       "    <tr>\n",
       "      <th>7479</th>\n",
       "      <td>0</td>\n",
       "    </tr>\n",
       "    <tr>\n",
       "      <th>7430</th>\n",
       "      <td>0</td>\n",
       "    </tr>\n",
       "    <tr>\n",
       "      <th>10282</th>\n",
       "      <td>0</td>\n",
       "    </tr>\n",
       "    <tr>\n",
       "      <th>8418</th>\n",
       "      <td>0</td>\n",
       "    </tr>\n",
       "    <tr>\n",
       "      <th>8084</th>\n",
       "      <td>0</td>\n",
       "    </tr>\n",
       "  </tbody>\n",
       "</table>\n",
       "</div>"
      ],
      "text/plain": [
       "       Type\n",
       "7479      0\n",
       "7430      0\n",
       "10282     0\n",
       "8418      0\n",
       "8084      0"
      ]
     },
     "execution_count": 35,
     "metadata": {},
     "output_type": "execute_result"
    }
   ],
   "source": [
    "y = pd.DataFrame()\n",
    "def me():\n",
    "    y = ps_final1.loc[:,ps_final1.columns == 'Type']\n",
    "    return y\n",
    "y = me()\n",
    "y.head()"
   ]
  },
  {
   "cell_type": "markdown",
   "metadata": {
    "colab_type": "text",
    "id": "JTmL7SIeoXtK"
   },
   "source": [
    "### Splitting X and y into train and test dataset"
   ]
  },
  {
   "cell_type": "code",
   "execution_count": 36,
   "metadata": {},
   "outputs": [],
   "source": [
    "from sklearn.model_selection import train_test_split\n",
    "def me():\n",
    "    return train_test_split(X, y, test_size=0.25, random_state=1) \n",
    "X_train, X_test, y_train, y_test = me()"
   ]
  },
  {
   "cell_type": "markdown",
   "metadata": {
    "colab_type": "text",
    "id": "-IStU1XdoXtZ"
   },
   "source": [
    "### Check the shape of X an y of train dataset."
   ]
  },
  {
   "cell_type": "code",
   "execution_count": 37,
   "metadata": {},
   "outputs": [
    {
     "name": "stdout",
     "output_type": "stream",
     "text": [
      "(7244, 4)\n",
      "(7244, 1)\n"
     ]
    }
   ],
   "source": [
    "def me():\n",
    "    print(X_train.shape)\n",
    "    print(y_train.shape)\n",
    "me()"
   ]
  },
  {
   "cell_type": "markdown",
   "metadata": {
    "colab_type": "text",
    "id": "6MDCzbAPoXth"
   },
   "source": [
    "### Check the shape of X and y of test dataset."
   ]
  },
  {
   "cell_type": "code",
   "execution_count": 38,
   "metadata": {},
   "outputs": [
    {
     "name": "stdout",
     "output_type": "stream",
     "text": [
      "(2415, 4)\n",
      "(2415, 1)\n"
     ]
    }
   ],
   "source": [
    "def me():\n",
    "    print(X_test.shape)\n",
    "    print(y_test.shape)\n",
    "me()"
   ]
  },
  {
   "cell_type": "markdown",
   "metadata": {},
   "source": [
    "# <a id=section602></a>\n",
    "### 6.2. Model 1: Decision Tree Classifier"
   ]
  },
  {
   "cell_type": "code",
   "execution_count": 39,
   "metadata": {},
   "outputs": [
    {
     "data": {
      "text/plain": [
       "DecisionTreeClassifier(random_state=0)"
      ]
     },
     "execution_count": 39,
     "metadata": {},
     "output_type": "execute_result"
    }
   ],
   "source": [
    "from sklearn import tree\n",
    "model_Class_DT_1 = tree.DecisionTreeClassifier(random_state = 0)\n",
    "model_Class_DT_1.fit(X_train, y_train)"
   ]
  },
  {
   "cell_type": "code",
   "execution_count": 40,
   "metadata": {},
   "outputs": [],
   "source": [
    "y_pred_train1 = model_Class_DT_1.predict(X_train)  \n",
    "y_pred_test1 = model_Class_DT_1.predict(X_test) "
   ]
  },
  {
   "cell_type": "markdown",
   "metadata": {},
   "source": [
    "# <a id=section603></a>\n",
    "### 6.3. Model 2: Random Forest Classifier"
   ]
  },
  {
   "cell_type": "code",
   "execution_count": 41,
   "metadata": {},
   "outputs": [
    {
     "data": {
      "text/plain": [
       "RandomForestClassifier(random_state=0)"
      ]
     },
     "execution_count": 41,
     "metadata": {},
     "output_type": "execute_result"
    }
   ],
   "source": [
    "from sklearn.ensemble import RandomForestClassifier\n",
    "model_Class_RF_2 = RandomForestClassifier(random_state = 0)\n",
    "model_Class_RF_2.fit(X_train, y_train)"
   ]
  },
  {
   "cell_type": "code",
   "execution_count": 42,
   "metadata": {},
   "outputs": [],
   "source": [
    "y_pred_train2 = model_Class_RF_2.predict(X_train)  \n",
    "y_pred_test2 = model_Class_RF_2.predict(X_test)"
   ]
  },
  {
   "cell_type": "markdown",
   "metadata": {},
   "source": [
    "# <a id=section604></a>\n",
    "### 6.4. Model 3: Grid Search CV_DT"
   ]
  },
  {
   "cell_type": "code",
   "execution_count": 43,
   "metadata": {},
   "outputs": [
    {
     "data": {
      "text/plain": [
       "GridSearchCV(cv=5, estimator=DecisionTreeClassifier(),\n",
       "             param_grid={'criterion': ['gini', 'entropy'],\n",
       "                         'max_depth': [4, 5, 6, 7, 8, 9, 10, 11, 12, 15, 20, 30,\n",
       "                                       40, 50, 70, 90, 120, 150]})"
      ]
     },
     "execution_count": 43,
     "metadata": {},
     "output_type": "execute_result"
    }
   ],
   "source": [
    "from sklearn.model_selection import GridSearchCV\n",
    "tree_para = {'criterion':['gini','entropy'],'max_depth':[4,5,6,7,8,9,10,11,12,15,20,30,40,50,70,90,120,150]}\n",
    "model_Class_GS_3 = GridSearchCV(tree.DecisionTreeClassifier(),tree_para, cv=5)\n",
    "model_Class_GS_3.fit(X_train, y_train)"
   ]
  },
  {
   "cell_type": "code",
   "execution_count": 44,
   "metadata": {},
   "outputs": [],
   "source": [
    "y_pred_train3 = model_Class_GS_3.predict(X_train)  \n",
    "y_pred_test3 = model_Class_GS_3.predict(X_test)"
   ]
  },
  {
   "cell_type": "markdown",
   "metadata": {},
   "source": [
    "# <a id=section605></a>\n",
    "### 6.5. Model 4: Grid Search CV_RF"
   ]
  },
  {
   "cell_type": "code",
   "execution_count": 45,
   "metadata": {},
   "outputs": [
    {
     "data": {
      "text/plain": [
       "GridSearchCV(cv=5, estimator=RandomForestClassifier(),\n",
       "             param_grid={'criterion': ['gini', 'entropy'],\n",
       "                         'max_depth': [4, 5, 6, 7, 8, 9, 10, 11, 12, 15, 20, 30,\n",
       "                                       40, 50, 70, 90, 120, 150]})"
      ]
     },
     "execution_count": 45,
     "metadata": {},
     "output_type": "execute_result"
    }
   ],
   "source": [
    "from sklearn.model_selection import GridSearchCV\n",
    "tree_para = {'criterion':['gini','entropy'],'max_depth':[4,5,6,7,8,9,10,11,12,15,20,30,40,50,70,90,120,150]}\n",
    "model_Class_GS_4 = GridSearchCV(RandomForestClassifier(),tree_para, cv=5)\n",
    "model_Class_GS_4.fit(X_train, y_train)"
   ]
  },
  {
   "cell_type": "code",
   "execution_count": 46,
   "metadata": {},
   "outputs": [],
   "source": [
    "y_pred_train4 = model_Class_GS_4.predict(X_train)  \n",
    "y_pred_test4 = model_Class_GS_4.predict(X_test)"
   ]
  },
  {
   "cell_type": "markdown",
   "metadata": {},
   "source": [
    "# <a id=section606></a>\n",
    "### 6.6. Model 5: Logistic Regression"
   ]
  },
  {
   "cell_type": "code",
   "execution_count": 47,
   "metadata": {},
   "outputs": [
    {
     "data": {
      "text/plain": [
       "LogisticRegression(random_state=0)"
      ]
     },
     "execution_count": 47,
     "metadata": {},
     "output_type": "execute_result"
    }
   ],
   "source": [
    "from sklearn.linear_model import LogisticRegression\n",
    "model_Class_LR_5 = LogisticRegression(random_state = 0)\n",
    "model_Class_LR_5.fit(X_train, y_train)"
   ]
  },
  {
   "cell_type": "code",
   "execution_count": 48,
   "metadata": {},
   "outputs": [],
   "source": [
    "y_pred_train5 = model_Class_LR_5.predict(X_train)  \n",
    "y_pred_test5 = model_Class_LR_5.predict(X_test)"
   ]
  },
  {
   "cell_type": "markdown",
   "metadata": {},
   "source": [
    "# <a id=section607></a>\n",
    "### 6.7. Model 6: Grid Search CV_LogR"
   ]
  },
  {
   "cell_type": "code",
   "execution_count": 49,
   "metadata": {},
   "outputs": [
    {
     "data": {
      "text/plain": [
       "GridSearchCV(estimator=LogisticRegression(),\n",
       "             param_grid={'C': [0.001, 0.01, 0.1, 1, 10, 100, 1000]})"
      ]
     },
     "execution_count": 49,
     "metadata": {},
     "output_type": "execute_result"
    }
   ],
   "source": [
    "from sklearn.model_selection import GridSearchCV\n",
    "param_grid = {'C': [0.001, 0.01, 0.1, 1, 10, 100, 1000] }\n",
    "model_Class_GS_6 = GridSearchCV(LogisticRegression(penalty='l2'), param_grid)\n",
    "model_Class_GS_6.fit(X_train, y_train)"
   ]
  },
  {
   "cell_type": "code",
   "execution_count": 50,
   "metadata": {},
   "outputs": [],
   "source": [
    "y_pred_train6 = model_Class_GS_6.predict(X_train)  \n",
    "y_pred_test6 = model_Class_GS_6.predict(X_test)"
   ]
  },
  {
   "cell_type": "markdown",
   "metadata": {},
   "source": [
    "# <a id=section608></a>\n",
    "### 6.8. Model Comparisions"
   ]
  },
  {
   "cell_type": "code",
   "execution_count": 51,
   "metadata": {},
   "outputs": [
    {
     "name": "stdout",
     "output_type": "stream",
     "text": [
      "Accuracy score for test data with model 1 is: 0.881159420289855\n",
      "Accuracy score for test data with model 2 is: 0.9006211180124224\n",
      "Accuracy score for test data with model 3 is: 0.9192546583850931\n",
      "Accuracy score for test data with model 4 is: 0.924223602484472\n",
      "Accuracy score for test data with model 5 is: 0.9217391304347826\n",
      "Accuracy score for test data with model 6 is: 0.9217391304347826\n"
     ]
    }
   ],
   "source": [
    "from sklearn.metrics import accuracy_score\n",
    "print('Accuracy score for test data with model 1 is:',accuracy_score(y_test, y_pred_test1))\n",
    "print('Accuracy score for test data with model 2 is:',accuracy_score(y_test, y_pred_test2))\n",
    "print('Accuracy score for test data with model 3 is:',accuracy_score(y_test, y_pred_test3))\n",
    "print('Accuracy score for test data with model 4 is:',accuracy_score(y_test, y_pred_test4))\n",
    "print('Accuracy score for test data with model 5 is:',accuracy_score(y_test, y_pred_test5))\n",
    "print('Accuracy score for test data with model 6 is:',accuracy_score(y_test, y_pred_test6))"
   ]
  },
  {
   "cell_type": "code",
   "execution_count": 52,
   "metadata": {},
   "outputs": [
    {
     "name": "stdout",
     "output_type": "stream",
     "text": [
      "Precision score for test data using model1 is: 0.22777777777777777\n",
      "Precision score for test data using model2 is: 0.26605504587155965\n",
      "Precision score for test data using model3 is: 0.2\n",
      "Precision score for test data using model4 is: 0.59375\n",
      "Precision score for test data using model5 is: 0.0\n",
      "Precision score for test data using model6 is: 0.0\n"
     ]
    }
   ],
   "source": [
    "from sklearn.metrics import precision_score\n",
    "precision1 = precision_score(y_test,y_pred_test1)\n",
    "print('Precision score for test data using model1 is:', precision1)\n",
    "precision2 = precision_score(y_test,y_pred_test2)\n",
    "print('Precision score for test data using model2 is:', precision2)\n",
    "precision3 = precision_score(y_test,y_pred_test3)\n",
    "print('Precision score for test data using model3 is:', precision3)\n",
    "precision4 = precision_score(y_test,y_pred_test4)\n",
    "print('Precision score for test data using model4 is:', precision4)\n",
    "precision5 = precision_score(y_test,y_pred_test5)\n",
    "print('Precision score for test data using model5 is:', precision5)\n",
    "precision6 = precision_score(y_test,y_pred_test6)\n",
    "print('Precision score for test data using model6 is:', precision6)"
   ]
  },
  {
   "cell_type": "code",
   "execution_count": 53,
   "metadata": {},
   "outputs": [
    {
     "name": "stdout",
     "output_type": "stream",
     "text": [
      "Recall score for test data using model1 is: 0.21693121693121692\n",
      "Recall score for test data using model2 is: 0.15343915343915343\n",
      "Recall score for test data using model3 is: 0.010582010582010581\n",
      "Recall score for test data using model4 is: 0.10052910052910052\n",
      "Recall score for test data using model5 is: 0.0\n",
      "Recall score for test data using model6 is: 0.0\n"
     ]
    }
   ],
   "source": [
    "from sklearn.metrics import recall_score\n",
    "print('Recall score for test data using model1 is:',recall_score(y_test,y_pred_test1))   \n",
    "print('Recall score for test data using model2 is:',recall_score(y_test,y_pred_test2))\n",
    "print('Recall score for test data using model3 is:',recall_score(y_test,y_pred_test3))\n",
    "print('Recall score for test data using model4 is:',recall_score(y_test,y_pred_test4))\n",
    "print('Recall score for test data using model5 is:',recall_score(y_test,y_pred_test5))\n",
    "print('Recall score for test data using model6 is:',recall_score(y_test,y_pred_test6))"
   ]
  },
  {
   "cell_type": "code",
   "execution_count": 54,
   "metadata": {},
   "outputs": [
    {
     "name": "stdout",
     "output_type": "stream",
     "text": [
      "Confusion matrix for test data with model 1 is:\n",
      " [[2087  139]\n",
      " [ 148   41]]\n",
      "Confusion matrix for test data with model 2 is:\n",
      " [[2146   80]\n",
      " [ 160   29]]\n",
      "Confusion matrix for test data with model 3 is:\n",
      " [[2218    8]\n",
      " [ 187    2]]\n",
      "Confusion matrix for test data with model 4 is:\n",
      " [[2213   13]\n",
      " [ 170   19]]\n",
      "Confusion matrix for test data with model 5 is:\n",
      " [[2226    0]\n",
      " [ 189    0]]\n",
      "Confusion matrix for test data with model 6 is:\n",
      " [[2226    0]\n",
      " [ 189    0]]\n"
     ]
    }
   ],
   "source": [
    "from sklearn.metrics import confusion_matrix\n",
    "print('Confusion matrix for test data with model 1 is:\\n',confusion_matrix(y_test, y_pred_test1))\n",
    "print('Confusion matrix for test data with model 2 is:\\n',confusion_matrix(y_test, y_pred_test2))\n",
    "print('Confusion matrix for test data with model 3 is:\\n',confusion_matrix(y_test, y_pred_test3))\n",
    "print('Confusion matrix for test data with model 4 is:\\n',confusion_matrix(y_test, y_pred_test4))\n",
    "print('Confusion matrix for test data with model 5 is:\\n',confusion_matrix(y_test, y_pred_test5))\n",
    "print('Confusion matrix for test data with model 6 is:\\n',confusion_matrix(y_test, y_pred_test6))"
   ]
  },
  {
   "cell_type": "code",
   "execution_count": 55,
   "metadata": {},
   "outputs": [
    {
     "name": "stdout",
     "output_type": "stream",
     "text": [
      "F1 score for test data with model 1 is: 0.22222222222222218\n",
      "F1 score for test data with model 2 is: 0.1946308724832215\n",
      "F1 score for test data with model 3 is: 0.020100502512562814\n",
      "F1 score for test data with model 4 is: 0.17194570135746606\n",
      "F1 score for test data with model 5 is: 0.0\n",
      "F1 score for test data with model 6 is: 0.0\n"
     ]
    }
   ],
   "source": [
    "from sklearn.metrics import f1_score\n",
    "print('F1 score for test data with model 1 is:',f1_score(y_test, y_pred_test1))\n",
    "print('F1 score for test data with model 2 is:',f1_score(y_test, y_pred_test2))\n",
    "print('F1 score for test data with model 3 is:',f1_score(y_test, y_pred_test3))\n",
    "print('F1 score for test data with model 4 is:',f1_score(y_test, y_pred_test4))\n",
    "print('F1 score for test data with model 5 is:',f1_score(y_test, y_pred_test5))\n",
    "print('F1 score for test data with model 6 is:',f1_score(y_test, y_pred_test6))"
   ]
  },
  {
   "cell_type": "markdown",
   "metadata": {},
   "source": [
    "# <a id=section609></a>\n",
    "### 6.9. Summary"
   ]
  },
  {
   "cell_type": "markdown",
   "metadata": {},
   "source": [
    "To sum up, we have developed a total of 6 models under Logistic Regression, Decision Tree, Random Forest and corresponding Grid Search CV. We trained these models with our train dataset and tested each models with our test dataset. Each model gave us average results with an accuracy of ~90%.\n",
    "\n",
    "The Accuracy, Precision and Recall for each models for test datasets are as under:\n",
    "\n",
    "|Sl. No.|| Model Name || Accuracy (Test) || Precision (Test) || Recall (Test)|| F1 Score (Test)|\n",
    "|----||---------||------------||-------------||----------||----------|\n",
    "|1|| Decision Tree Model-1|| .88|| .23|| .22|| .22|\n",
    "|2|| Random Forest Model-2|| .90|| .27|| .15|| .19|\n",
    "|3|| GridSearchCV_DT Model - 3|| .92|| .2|| .01|| .02|\n",
    "|4|| GridSearchCV_RF Model - 4|| .92|| .53|| .11|| .18\n",
    "|5|| Logistic Regression Model-5|| .92|| .0|| .0|| .0|\n",
    "|6|| GridSearchCV_LogR Model - 6|| .92|| .0|| .0|| .0|\n",
    "\n",
    "Therefore based on all scores and highest precision, **GridSearchCV_RF Model - 4** is the best model for this dataset.<br>\n",
    "Though there is a need of more attributes to built a better model."
   ]
  },
  {
   "cell_type": "markdown",
   "metadata": {},
   "source": [
    "# <a id=section7></a>\n",
    "## 7. Regression"
   ]
  },
  {
   "cell_type": "markdown",
   "metadata": {},
   "source": [
    "# <a id=section701></a>\n",
    "### 7.1. Data Preparation for ML"
   ]
  },
  {
   "cell_type": "markdown",
   "metadata": {},
   "source": [
    "Removing data point/records of free apps from the dataset"
   ]
  },
  {
   "cell_type": "code",
   "execution_count": 56,
   "metadata": {},
   "outputs": [
    {
     "data": {
      "text/html": [
       "<div>\n",
       "<style scoped>\n",
       "    .dataframe tbody tr th:only-of-type {\n",
       "        vertical-align: middle;\n",
       "    }\n",
       "\n",
       "    .dataframe tbody tr th {\n",
       "        vertical-align: top;\n",
       "    }\n",
       "\n",
       "    .dataframe thead th {\n",
       "        text-align: right;\n",
       "    }\n",
       "</style>\n",
       "<table border=\"1\" class=\"dataframe\">\n",
       "  <thead>\n",
       "    <tr style=\"text-align: right;\">\n",
       "      <th></th>\n",
       "      <th>Size</th>\n",
       "      <th>Installs</th>\n",
       "      <th>Price</th>\n",
       "      <th>Category</th>\n",
       "      <th>Content Rating</th>\n",
       "      <th>Type</th>\n",
       "    </tr>\n",
       "  </thead>\n",
       "  <tbody>\n",
       "    <tr>\n",
       "      <th>5144</th>\n",
       "      <td>0.081</td>\n",
       "      <td>0.00010</td>\n",
       "      <td>4.99</td>\n",
       "      <td>29</td>\n",
       "      <td>1</td>\n",
       "      <td>1</td>\n",
       "    </tr>\n",
       "    <tr>\n",
       "      <th>7237</th>\n",
       "      <td>0.029</td>\n",
       "      <td>0.00100</td>\n",
       "      <td>1.49</td>\n",
       "      <td>29</td>\n",
       "      <td>1</td>\n",
       "      <td>1</td>\n",
       "    </tr>\n",
       "    <tr>\n",
       "      <th>10460</th>\n",
       "      <td>0.026</td>\n",
       "      <td>0.00500</td>\n",
       "      <td>1.00</td>\n",
       "      <td>29</td>\n",
       "      <td>1</td>\n",
       "      <td>1</td>\n",
       "    </tr>\n",
       "    <tr>\n",
       "      <th>9920</th>\n",
       "      <td>2.100</td>\n",
       "      <td>0.00010</td>\n",
       "      <td>1.26</td>\n",
       "      <td>11</td>\n",
       "      <td>1</td>\n",
       "      <td>1</td>\n",
       "    </tr>\n",
       "    <tr>\n",
       "      <th>10798</th>\n",
       "      <td>1.020</td>\n",
       "      <td>0.00005</td>\n",
       "      <td>1.04</td>\n",
       "      <td>11</td>\n",
       "      <td>1</td>\n",
       "      <td>1</td>\n",
       "    </tr>\n",
       "    <tr>\n",
       "      <th>...</th>\n",
       "      <td>...</td>\n",
       "      <td>...</td>\n",
       "      <td>...</td>\n",
       "      <td>...</td>\n",
       "      <td>...</td>\n",
       "      <td>...</td>\n",
       "    </tr>\n",
       "    <tr>\n",
       "      <th>4577</th>\n",
       "      <td>37.000</td>\n",
       "      <td>0.00100</td>\n",
       "      <td>1.99</td>\n",
       "      <td>23</td>\n",
       "      <td>1</td>\n",
       "      <td>1</td>\n",
       "    </tr>\n",
       "    <tr>\n",
       "      <th>4834</th>\n",
       "      <td>68.000</td>\n",
       "      <td>0.00100</td>\n",
       "      <td>1.49</td>\n",
       "      <td>23</td>\n",
       "      <td>1</td>\n",
       "      <td>1</td>\n",
       "    </tr>\n",
       "    <tr>\n",
       "      <th>6766</th>\n",
       "      <td>3.800</td>\n",
       "      <td>0.00100</td>\n",
       "      <td>0.99</td>\n",
       "      <td>29</td>\n",
       "      <td>1</td>\n",
       "      <td>1</td>\n",
       "    </tr>\n",
       "    <tr>\n",
       "      <th>7328</th>\n",
       "      <td>6.100</td>\n",
       "      <td>0.00500</td>\n",
       "      <td>3.99</td>\n",
       "      <td>30</td>\n",
       "      <td>1</td>\n",
       "      <td>1</td>\n",
       "    </tr>\n",
       "    <tr>\n",
       "      <th>10760</th>\n",
       "      <td>2.400</td>\n",
       "      <td>0.00100</td>\n",
       "      <td>7.99</td>\n",
       "      <td>15</td>\n",
       "      <td>1</td>\n",
       "      <td>1</td>\n",
       "    </tr>\n",
       "  </tbody>\n",
       "</table>\n",
       "<p>754 rows × 6 columns</p>\n",
       "</div>"
      ],
      "text/plain": [
       "         Size  Installs  Price  Category  Content Rating  Type\n",
       "5144    0.081   0.00010   4.99        29               1     1\n",
       "7237    0.029   0.00100   1.49        29               1     1\n",
       "10460   0.026   0.00500   1.00        29               1     1\n",
       "9920    2.100   0.00010   1.26        11               1     1\n",
       "10798   1.020   0.00005   1.04        11               1     1\n",
       "...       ...       ...    ...       ...             ...   ...\n",
       "4577   37.000   0.00100   1.99        23               1     1\n",
       "4834   68.000   0.00100   1.49        23               1     1\n",
       "6766    3.800   0.00100   0.99        29               1     1\n",
       "7328    6.100   0.00500   3.99        30               1     1\n",
       "10760   2.400   0.00100   7.99        15               1     1\n",
       "\n",
       "[754 rows x 6 columns]"
      ]
     },
     "execution_count": 56,
     "metadata": {},
     "output_type": "execute_result"
    }
   ],
   "source": [
    "ps_final2 = ps_final[ps_final.Type != 0]\n",
    "ps_final2"
   ]
  },
  {
   "cell_type": "code",
   "execution_count": 57,
   "metadata": {},
   "outputs": [],
   "source": [
    "ps_final2 = ps_final2.drop(['Type'],axis = 1)"
   ]
  },
  {
   "cell_type": "code",
   "execution_count": 58,
   "metadata": {},
   "outputs": [],
   "source": [
    "X1 = pd.DataFrame()\n",
    "def me():\n",
    "    X1 = ps_final2.loc[:,ps_final2.columns != 'Price']\n",
    "    return X1\n",
    "X1 = me()"
   ]
  },
  {
   "cell_type": "code",
   "execution_count": 59,
   "metadata": {},
   "outputs": [],
   "source": [
    "y1 = pd.DataFrame()\n",
    "def me():\n",
    "    y1 = ps_final2.loc[:,ps_final2.columns == 'Price']\n",
    "    return y1\n",
    "y1 = me()"
   ]
  },
  {
   "cell_type": "code",
   "execution_count": 60,
   "metadata": {},
   "outputs": [],
   "source": [
    "from sklearn.model_selection import train_test_split\n",
    "def me():\n",
    "    return train_test_split(X1, y1, test_size=0.25, random_state=1) \n",
    "X1_train, X1_test, y1_train, y1_test = me()"
   ]
  },
  {
   "cell_type": "code",
   "execution_count": 61,
   "metadata": {},
   "outputs": [
    {
     "name": "stdout",
     "output_type": "stream",
     "text": [
      "(565, 4)\n",
      "(565, 1)\n"
     ]
    }
   ],
   "source": [
    "def me():\n",
    "    print(X1_train.shape)\n",
    "    print(y1_train.shape)\n",
    "me()"
   ]
  },
  {
   "cell_type": "code",
   "execution_count": 62,
   "metadata": {},
   "outputs": [
    {
     "name": "stdout",
     "output_type": "stream",
     "text": [
      "(189, 4)\n",
      "(189, 1)\n"
     ]
    }
   ],
   "source": [
    "def me():\n",
    "    print(X1_test.shape)\n",
    "    print(y1_test.shape)\n",
    "me()"
   ]
  },
  {
   "cell_type": "markdown",
   "metadata": {},
   "source": [
    "# <a id=section702></a>\n",
    "### 7.2. Model 1: Decision Tree Regressor"
   ]
  },
  {
   "cell_type": "code",
   "execution_count": 63,
   "metadata": {},
   "outputs": [
    {
     "data": {
      "text/plain": [
       "DecisionTreeRegressor()"
      ]
     },
     "execution_count": 63,
     "metadata": {},
     "output_type": "execute_result"
    }
   ],
   "source": [
    "# Importing and developing simple Decision Tree Model\n",
    "from sklearn.tree import DecisionTreeRegressor\n",
    "Model_Reg_DT_1 = DecisionTreeRegressor(criterion='mse')\n",
    "Model_Reg_DT_1.fit(X1_train, y1_train)"
   ]
  },
  {
   "cell_type": "code",
   "execution_count": 64,
   "metadata": {},
   "outputs": [],
   "source": [
    "y1_train_pred1=Model_Reg_DT_1.predict(X1_train)\n",
    "y1_test_pred1=Model_Reg_DT_1.predict(X1_test)"
   ]
  },
  {
   "cell_type": "markdown",
   "metadata": {},
   "source": [
    "# <a id=section703></a>\n",
    "### 7.3. Model 2: Grid Search CV_DT"
   ]
  },
  {
   "cell_type": "code",
   "execution_count": 65,
   "metadata": {},
   "outputs": [
    {
     "data": {
      "text/plain": [
       "GridSearchCV(cv=10, estimator=DecisionTreeRegressor(random_state=0),\n",
       "             param_grid=[{'max_depth': [2, 3, 4, 5, 6, 7, 8, 9, 10, 11, 12, 13,\n",
       "                                        14, 15, 16, 17, 18, 19, 20, 21, 22, 23,\n",
       "                                        24, 25, 26, 27, 28, 29, 30, 31, ...],\n",
       "                          'max_features': ['auto', 'log2'],\n",
       "                          'splitter': ['best', 'random']}],\n",
       "             refit='AUC')"
      ]
     },
     "execution_count": 65,
     "metadata": {},
     "output_type": "execute_result"
    }
   ],
   "source": [
    "from sklearn.tree import DecisionTreeRegressor\n",
    "from sklearn.model_selection import GridSearchCV\n",
    "\n",
    "decision_tree_regressor= DecisionTreeRegressor(random_state = 0)\n",
    "\n",
    "max_depth = list(range(2, 60))\n",
    "max_depth.append('None')\n",
    "\n",
    "tree_para = [{'max_depth': max_depth,\n",
    "              'splitter' : [\"best\", \"random\"],\n",
    "              'max_features': [\"auto\", \"log2\"] }]\n",
    "                            \n",
    "                            \n",
    "\n",
    "grid_search = GridSearchCV(decision_tree_regressor,tree_para, cv=10, refit='AUC')\n",
    "grid_search.fit(X1_train, y1_train)"
   ]
  },
  {
   "cell_type": "code",
   "execution_count": 66,
   "metadata": {},
   "outputs": [],
   "source": [
    "Model_Reg_GS_2 = grid_search.best_estimator_\n",
    "y1_train_pred2=Model_Reg_GS_2.predict(X1_train)\n",
    "y1_test_pred2=Model_Reg_GS_2.predict(X1_test)"
   ]
  },
  {
   "cell_type": "markdown",
   "metadata": {},
   "source": [
    "# <a id=section704></a>\n",
    "### 7.4. Model 3: Random Forest Regressor"
   ]
  },
  {
   "cell_type": "code",
   "execution_count": 67,
   "metadata": {},
   "outputs": [
    {
     "data": {
      "text/plain": [
       "RandomForestRegressor(random_state=0)"
      ]
     },
     "execution_count": 67,
     "metadata": {},
     "output_type": "execute_result"
    }
   ],
   "source": [
    "from sklearn.ensemble import RandomForestRegressor\n",
    "Model_Reg_RF_3 = RandomForestRegressor(random_state = 0)\n",
    "Model_Reg_RF_3.fit(X1_train, y1_train)"
   ]
  },
  {
   "cell_type": "code",
   "execution_count": 68,
   "metadata": {},
   "outputs": [],
   "source": [
    "y1_train_pred3 = Model_Reg_RF_3.predict(X1_train)\n",
    "y1_test_pred3 = Model_Reg_RF_3.predict(X1_test)"
   ]
  },
  {
   "cell_type": "markdown",
   "metadata": {},
   "source": [
    "# <a id=section705></a>\n",
    "### 7.5. Model 4: Grid Search CV_RF1"
   ]
  },
  {
   "cell_type": "code",
   "execution_count": 69,
   "metadata": {},
   "outputs": [
    {
     "data": {
      "text/plain": [
       "RandomizedSearchCV(estimator=RandomForestRegressor(random_state=0), n_iter=50,\n",
       "                   n_jobs=-1,\n",
       "                   param_distributions={'max_depth': [2, 3, 4, 5, 6, 7, 8, 9,\n",
       "                                                      10, 11, 12, 13, 14, 15,\n",
       "                                                      16, 17, 18, 19, 20, 21,\n",
       "                                                      22, 23, 24, 25, 26, 27,\n",
       "                                                      28, 29, 30, 31, ...],\n",
       "                                        'max_features': ['auto', 'log2'],\n",
       "                                        'min_samples_leaf': <scipy.stats._distn_infrastructure.rv_frozen object at 0x00000218A28E09A0>,\n",
       "                                        'min_samples_split': <scipy.stats._distn_infrastructure.rv_frozen object at 0x00000218A31D4CA0>,\n",
       "                                        'n_estimators': [100, 400, 700, 1000,\n",
       "                                                         1500]})"
      ]
     },
     "execution_count": 69,
     "metadata": {},
     "output_type": "execute_result"
    }
   ],
   "source": [
    "from sklearn.model_selection import RandomizedSearchCV\n",
    "from scipy.stats import randint as sp_randint\n",
    "# parameters for GridSearchCV\n",
    "\n",
    "max_depth = list(range(2, 60))\n",
    "max_depth.append('None')\n",
    "\n",
    "# specify parameters and distributions to sample from\n",
    "param_dist = {\"max_depth\": max_depth,\n",
    "              \"min_samples_split\": sp_randint(2, 11),\n",
    "              \"min_samples_leaf\": sp_randint(1, 11),\n",
    "              \"n_estimators\": [100, 400, 700, 1000, 1500],\n",
    "              'max_features': [\"auto\", \"log2\"]\n",
    "             }\n",
    "# run randomized search\n",
    "n_iter_search = 50\n",
    "random_search = RandomizedSearchCV(Model_Reg_RF_3, param_distributions = param_dist,\n",
    "                                   n_iter = n_iter_search,\n",
    "                                   n_jobs = -1)\n",
    "random_search.fit(X1_train, y1_train)"
   ]
  },
  {
   "cell_type": "code",
   "execution_count": 70,
   "metadata": {},
   "outputs": [],
   "source": [
    "Model_Reg_GS_4 = random_search.best_estimator_\n",
    "y1_train_pred4 = Model_Reg_GS_4.predict(X1_train)\n",
    "y1_test_pred4 = Model_Reg_GS_4.predict(X1_test)"
   ]
  },
  {
   "cell_type": "markdown",
   "metadata": {},
   "source": [
    "# <a id=section706></a>\n",
    "### 7.6. Model 5: Grid Search CV_RF2"
   ]
  },
  {
   "cell_type": "code",
   "execution_count": 71,
   "metadata": {},
   "outputs": [
    {
     "data": {
      "text/plain": [
       "GridSearchCV(cv=10, estimator=RandomForestRegressor(random_state=0),\n",
       "             param_grid={'bootstrap': [True, False],\n",
       "                         'max_features': ['auto', 'sqrt', 'log2'],\n",
       "                         'min_samples_split': [2, 4, 8],\n",
       "                         'n_estimators': [10, 20, 30]},\n",
       "             refit='AUC')"
      ]
     },
     "execution_count": 71,
     "metadata": {},
     "output_type": "execute_result"
    }
   ],
   "source": [
    "max_depth = list(range(2, 60))\n",
    "max_depth.append('None')\n",
    "\n",
    "tree_para = { \n",
    "            \"n_estimators\"      : [10,20,30],\n",
    "            \"max_features\"      : [\"auto\", \"sqrt\", \"log2\"],\n",
    "            \"min_samples_split\" : [2,4,8],\n",
    "            \"bootstrap\": [True, False],\n",
    "            }\n",
    "                            \n",
    "                            \n",
    "\n",
    "grid_search1 = GridSearchCV(Model_Reg_RF_3,tree_para, cv=10, refit='AUC')\n",
    "grid_search1.fit(X1_train, y1_train)"
   ]
  },
  {
   "cell_type": "code",
   "execution_count": 72,
   "metadata": {},
   "outputs": [],
   "source": [
    "Model_Reg_GS_5 = grid_search1.best_estimator_\n",
    "y1_train_pred5=Model_Reg_GS_5.predict(X1_train)\n",
    "y1_test_pred5=Model_Reg_GS_5.predict(X1_test)"
   ]
  },
  {
   "cell_type": "markdown",
   "metadata": {},
   "source": [
    "# <a id=section707></a>\n",
    "### 7.7. Model 6: Linear Regression"
   ]
  },
  {
   "cell_type": "code",
   "execution_count": 73,
   "metadata": {},
   "outputs": [],
   "source": [
    "from sklearn.linear_model import LinearRegression\n",
    "def lr():\n",
    "    linreg = LinearRegression()\n",
    "    return linreg\n",
    "Model_Reg_LR_6 = lr()\n",
    "def lr():\n",
    "    Model_Reg_LR_6.fit(X1_train, y1_train)  \n",
    "lr()"
   ]
  },
  {
   "cell_type": "code",
   "execution_count": 74,
   "metadata": {},
   "outputs": [],
   "source": [
    "y1_train_pred6 = Model_Reg_LR_6.predict(X1_train)\n",
    "y1_test_pred6 = Model_Reg_LR_6.predict(X1_test)"
   ]
  },
  {
   "cell_type": "markdown",
   "metadata": {},
   "source": [
    "# <a id=section708></a>\n",
    "### 7.8. Model Evaluation"
   ]
  },
  {
   "cell_type": "code",
   "execution_count": 75,
   "metadata": {},
   "outputs": [
    {
     "name": "stdout",
     "output_type": "stream",
     "text": [
      "The RMSE Value of Test Dataset for Model 1 is  : 57.264409551856474\n",
      "The RMSE Value of Test Dataset for Model 2 is  : 44.39507456951437\n",
      "The RMSE Value of Test Dataset for Model 3 is  : 38.1052320007382\n",
      "The RMSE Value of Test Dataset for Model 4 is  : 39.69319435873893\n",
      "The RMSE Value of Test Dataset for Model 5 is  : 40.415375079414986\n",
      "The RMSE Value of Test Dataset for Model 6 is  : 45.79927077556059\n"
     ]
    }
   ],
   "source": [
    "#finding RMSE values\n",
    "from sklearn import metrics\n",
    "RMSE_test_dt1=np.sqrt(metrics.mean_squared_error(y1_test,y1_test_pred1))\n",
    "print('The RMSE Value of Test Dataset for Model 1 is  :',RMSE_test_dt1)\n",
    "RMSE_test_dt2=np.sqrt(metrics.mean_squared_error(y1_test,y1_test_pred2))\n",
    "print('The RMSE Value of Test Dataset for Model 2 is  :',RMSE_test_dt2)\n",
    "RMSE_test_dt3=np.sqrt(metrics.mean_squared_error(y1_test,y1_test_pred3))\n",
    "print('The RMSE Value of Test Dataset for Model 3 is  :',RMSE_test_dt3)\n",
    "RMSE_test_dt4=np.sqrt(metrics.mean_squared_error(y1_test,y1_test_pred4))\n",
    "print('The RMSE Value of Test Dataset for Model 4 is  :',RMSE_test_dt4)\n",
    "RMSE_test_dt5=np.sqrt(metrics.mean_squared_error(y1_test,y1_test_pred5))\n",
    "print('The RMSE Value of Test Dataset for Model 5 is  :',RMSE_test_dt5)\n",
    "RMSE_test_dt6=np.sqrt(metrics.mean_squared_error(y1_test,y1_test_pred6))\n",
    "print('The RMSE Value of Test Dataset for Model 6 is  :',RMSE_test_dt6)"
   ]
  },
  {
   "cell_type": "code",
   "execution_count": 76,
   "metadata": {},
   "outputs": [
    {
     "name": "stdout",
     "output_type": "stream",
     "text": [
      "The R-square value for Test Data of Model 1 is : -0.5516569041325408\n",
      "The R-square value for Test Data of Model 2 is : 0.06739937203392021\n",
      "The R-square value for Test Data of Model 3 is : 0.31293892553566294\n",
      "The R-square value for Test Data of Model 4 is : 0.2544818425898957\n",
      "The R-square value for Test Data of Model 5 is : 0.22710704034373186\n",
      "The R-square value for Test Data of Model 6 is : 0.007470896539379157\n"
     ]
    }
   ],
   "source": [
    "from sklearn.metrics import r2_score\n",
    "r2_dt_test1=r2_score(y1_test, y1_test_pred1)\n",
    "print('The R-square value for Test Data of Model 1 is :', r2_dt_test1)\n",
    "r2_dt_test2=r2_score(y1_test, y1_test_pred2)\n",
    "print('The R-square value for Test Data of Model 2 is :', r2_dt_test2)\n",
    "r2_dt_test3=r2_score(y1_test, y1_test_pred3)\n",
    "print('The R-square value for Test Data of Model 3 is :', r2_dt_test3)\n",
    "r2_dt_test4=r2_score(y1_test, y1_test_pred4)\n",
    "print('The R-square value for Test Data of Model 4 is :', r2_dt_test4)\n",
    "r2_dt_test5=r2_score(y1_test, y1_test_pred5)\n",
    "print('The R-square value for Test Data of Model 5 is :', r2_dt_test5)\n",
    "r2_dt_test6=r2_score(y1_test, y1_test_pred6)\n",
    "print('The R-square value for Test Data of Model 6 is :', r2_dt_test6)"
   ]
  },
  {
   "cell_type": "code",
   "execution_count": 77,
   "metadata": {},
   "outputs": [],
   "source": [
    "def Adjusted_r2(r_square,N): #creating function so that we can call the function again and again\n",
    "    return(1-(((1-r_square)*(N-1))/(N-6)))"
   ]
  },
  {
   "cell_type": "code",
   "execution_count": 78,
   "metadata": {},
   "outputs": [
    {
     "name": "stdout",
     "output_type": "stream",
     "text": [
      "The Adjusted R-square value for Test Data of Model 1 is : -0.5940519015132113\n",
      "The Adjusted R-square value for Test Data of Model 2 is : 0.04191848055943703\n",
      "The Adjusted R-square value for Test Data of Model 3 is : 0.2941667650311728\n",
      "The Adjusted R-square value for Test Data of Model 4 is : 0.23411249402677803\n",
      "The Adjusted R-square value for Test Data of Model 5 is : 0.20598974636405243\n",
      "The Adjusted R-square value for Test Data of Model 6 is : -0.01964738497593821\n"
     ]
    }
   ],
   "source": [
    "adj_r2_test1=Adjusted_r2(r2_dt_test1,len(X1_test))\n",
    "print('The Adjusted R-square value for Test Data of Model 1 is :', adj_r2_test1)\n",
    "adj_r2_test2=Adjusted_r2(r2_dt_test2,len(X1_test))\n",
    "print('The Adjusted R-square value for Test Data of Model 2 is :', adj_r2_test2)\n",
    "adj_r2_test3=Adjusted_r2(r2_dt_test3,len(X1_test))\n",
    "print('The Adjusted R-square value for Test Data of Model 3 is :', adj_r2_test3)\n",
    "adj_r2_test4=Adjusted_r2(r2_dt_test4,len(X1_test))\n",
    "print('The Adjusted R-square value for Test Data of Model 4 is :', adj_r2_test4)\n",
    "adj_r2_test5=Adjusted_r2(r2_dt_test5,len(X1_test))\n",
    "print('The Adjusted R-square value for Test Data of Model 5 is :', adj_r2_test5)\n",
    "adj_r2_test6=Adjusted_r2(r2_dt_test6,len(X1_test))\n",
    "print('The Adjusted R-square value for Test Data of Model 6 is :', adj_r2_test6)"
   ]
  },
  {
   "cell_type": "markdown",
   "metadata": {},
   "source": [
    "# <a id=section709></a>\n",
    "### 7.9. Summary"
   ]
  },
  {
   "cell_type": "markdown",
   "metadata": {},
   "source": [
    "To sum up, we have developed a total of 6 models under Linear Regression, Decision Tree, Random Forest and corresponding Grid Search CV. We trained these models with our train dataset and tested each models with our test dataset. Each model gave us average results with Random forest models performing slightly better.\n",
    "\n",
    "The RMSE, R2 and Adjusted R2 for each models for test datasets are as under:\n",
    "\n",
    "|Sl. No.|| Model Name || RMSE (Test) || R2 (Test) || Adj R2 (Test)|\n",
    "|----||---------||------------||-------------||----------|\n",
    "|1|| Decision Tree Model-1||43.7 ||0.10||0.07|\n",
    "|2|| GridSearchCV_DT Model - 2||44.6||0.06||0.03|\n",
    "|3|| Random Forest Model-3||38.1||0.31||0.30|\n",
    "|4|| GridSearchCV_RF1 Model - 4||39.7||0.25||0.23|\n",
    "|5|| GridSearchCV_RF2 Model - 5||40.4||0.23||0.21|\n",
    "|6|| Linear Regression Model-6||45.8||0.01||-0.02|\n",
    "\n",
    "Therefore based on RMSE and R2 values, **Random Forest Model - 3** is the best model for this dataset.<br>\n",
    "Though this model can give an approximation for price point; but there is a definite need of more attributesand records to built a better model.\n",
    "\n"
   ]
  },
  {
   "cell_type": "markdown",
   "metadata": {},
   "source": [
    "<a id=section8></a>\n",
    "## 8. Conclusion\n",
    "\n",
    "- The analysis reveals insights on pricing of Apps\n",
    "\n",
    "- It gives decent price point predictions based on minimal information on **Categories**, **Size**, **Content type** and **Installs**\n",
    "\n",
    "- Though we were able to derive and identify some decent models for predicting the price of Apps, but for better models some additional information is a must"
   ]
  }
 ],
 "metadata": {
  "kernelspec": {
   "display_name": "Python 3",
   "language": "python",
   "name": "python3"
  },
  "language_info": {
   "codemirror_mode": {
    "name": "ipython",
    "version": 3
   },
   "file_extension": ".py",
   "mimetype": "text/x-python",
   "name": "python",
   "nbconvert_exporter": "python",
   "pygments_lexer": "ipython3",
   "version": "3.8.5"
  }
 },
 "nbformat": 4,
 "nbformat_minor": 4
}
